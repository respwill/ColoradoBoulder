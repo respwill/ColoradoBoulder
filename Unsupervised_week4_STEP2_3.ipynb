{
  "nbformat": 4,
  "nbformat_minor": 0,
  "metadata": {
    "colab": {
      "provenance": [],
      "toc_visible": true,
      "mount_file_id": "1w1PftRvHJTLLWGh0c2qhAyj1kwen3aJu",
      "authorship_tag": "ABX9TyNpdkznKQ4FqU97YL4ADc9u",
      "include_colab_link": true
    },
    "kernelspec": {
      "name": "python3",
      "display_name": "Python 3"
    },
    "language_info": {
      "name": "python"
    }
  },
  "cells": [
    {
      "cell_type": "markdown",
      "metadata": {
        "id": "view-in-github",
        "colab_type": "text"
      },
      "source": [
        "<a href=\"https://colab.research.google.com/github/respwill/ColoradoBoulder/blob/main/Unsupervised_week4_STEP2_3.ipynb\" target=\"_parent\"><img src=\"https://colab.research.google.com/assets/colab-badge.svg\" alt=\"Open In Colab\"/></a>"
      ]
    },
    {
      "cell_type": "markdown",
      "source": [
        "# Import dependencies\n"
      ],
      "metadata": {
        "id": "7mIgA25wVrE_"
      }
    },
    {
      "cell_type": "code",
      "execution_count": null,
      "metadata": {
        "id": "spCxhDDNOqVj",
        "colab": {
          "base_uri": "https://localhost:8080/"
        },
        "outputId": "9f7c9f07-fe29-4746-e418-b6c39a0db896"
      },
      "outputs": [
        {
          "output_type": "stream",
          "name": "stderr",
          "text": [
            "[nltk_data] Downloading package punkt to /root/nltk_data...\n",
            "[nltk_data]   Package punkt is already up-to-date!\n",
            "[nltk_data] Downloading package stopwords to /root/nltk_data...\n",
            "[nltk_data]   Package stopwords is already up-to-date!\n",
            "[nltk_data] Downloading package wordnet to /root/nltk_data...\n",
            "[nltk_data]   Package wordnet is already up-to-date!\n",
            "[nltk_data] Downloading package omw-1.4 to /root/nltk_data...\n",
            "[nltk_data]   Package omw-1.4 is already up-to-date!\n"
          ]
        },
        {
          "output_type": "execute_result",
          "data": {
            "text/plain": [
              "True"
            ]
          },
          "metadata": {},
          "execution_count": 5
        }
      ],
      "source": [
        "import pandas as pd\n",
        "import numpy as np\n",
        "import itertools\n",
        "from tqdm import tqdm\n",
        "tqdm.pandas()\n",
        "from sklearn.metrics import accuracy_score, confusion_matrix, f1_score\n",
        "from sklearn.feature_extraction.text import TfidfVectorizer, CountVectorizer\n",
        "from sklearn.decomposition import NMF\n",
        "from sklearn.model_selection import RandomizedSearchCV\n",
        "from collections import Counter\n",
        "import re\n",
        "from nltk.corpus import stopwords\n",
        "from nltk.stem import WordNetLemmatizer\n",
        "from nltk.tokenize import sent_tokenize, word_tokenize\n",
        "import nltk\n",
        "nltk.download('punkt')\n",
        "nltk.download('stopwords')\n",
        "nltk.download('wordnet')\n",
        "nltk.download('omw-1.4')"
      ]
    },
    {
      "cell_type": "markdown",
      "source": [
        "# Read preprocessed dataset"
      ],
      "metadata": {
        "id": "udLFOUSUJj96"
      }
    },
    {
      "cell_type": "code",
      "source": [
        "train = pd.read_csv('/content/drive/MyDrive/ColoradoBoulder/Machine Learning/Unsupervised learning/week4_peer_review/preprocessed_train.csv')"
      ],
      "metadata": {
        "id": "6uXEKe0SO8vL"
      },
      "execution_count": null,
      "outputs": []
    },
    {
      "cell_type": "code",
      "source": [
        "train.head()"
      ],
      "metadata": {
        "colab": {
          "base_uri": "https://localhost:8080/",
          "height": 528
        },
        "id": "RX4Gvhw_PYjG",
        "outputId": "38218cf4-8920-41f3-aeae-84cf8394bd2f"
      },
      "execution_count": null,
      "outputs": [
        {
          "output_type": "execute_result",
          "data": {
            "text/plain": [
              "   Unnamed: 0  ArticleId                                               Text  \\\n",
              "0           0       1833  worldcom ex-boss launches defence lawyers defe...   \n",
              "1           1        154  german business confidence slides german busin...   \n",
              "2           2       1101  bbc poll indicates economic gloom citizens in ...   \n",
              "3           3       1976  lifestyle  governs mobile choice  faster  bett...   \n",
              "4           4        917  enron bosses in $168m payout eighteen former e...   \n",
              "\n",
              "   Category  n_word_token                                        word_tokens  \\\n",
              "0  business            18  ['last', 'week', 'mci', 'agreed', 'to', 'a', '...   \n",
              "1  business            28  ['eurozone', 'interest', 'rates', 'are', 'at',...   \n",
              "2  business            14  ['in', 'eight', 'of', 'the', 'countries', 'the...   \n",
              "3      tech            23  ['by', 'contrast', 'he', 'said', 'camera', 'ph...   \n",
              "4  business            42  ['the', 'university', 'of', 'california', 'sai...   \n",
              "\n",
              "   majority  majority_n                                           no_punct  \\\n",
              "0         a           2  worldcom exboss launches defence lawyers defen...   \n",
              "1  interest           2  german business confidence slides german busin...   \n",
              "2       the           2  bbc poll indicates economic gloom citizens in ...   \n",
              "3      were           2  lifestyle  governs mobile choice  faster  bett...   \n",
              "4       the           5  enron bosses in 168m payout eighteen former en...   \n",
              "\n",
              "                                        no_punct_num  \\\n",
              "0  worldcom exboss launches defence lawyers defen...   \n",
              "1  german business confidence slides german busin...   \n",
              "2  bbc poll indicates economic gloom citizens in ...   \n",
              "3  lifestyle  governs mobile choice  faster  bett...   \n",
              "4  enron bosses in m payout eighteen former enron...   \n",
              "\n",
              "                                        no_stopwords  \\\n",
              "0  worldcom exboss launches defence lawyers defen...   \n",
              "1  german business confidence slides german busin...   \n",
              "2  bbc poll indicates economic gloom citizens maj...   \n",
              "3  lifestyle governs mobile choice faster better ...   \n",
              "4  enron bosses payout eighteen former enron dire...   \n",
              "\n",
              "                                          clean_text  \\\n",
              "0  worldcom exboss launches defence lawyers defen...   \n",
              "1  german business confidence slides german busin...   \n",
              "2  bbc poll indicates economic gloom citizens maj...   \n",
              "3  lifestyle governs mobile choice faster better ...   \n",
              "4  enron bosses payout eighteen former enron dire...   \n",
              "\n",
              "                                           tokenized  \\\n",
              "0  ['worldcom', 'exboss', 'launches', 'defence', ...   \n",
              "1  ['german', 'business', 'confidence', 'slides',...   \n",
              "2  ['bbc', 'poll', 'indicates', 'economic', 'gloo...   \n",
              "3  ['lifestyle', 'governs', 'mobile', 'choice', '...   \n",
              "4  ['enron', 'bosses', 'payout', 'eighteen', 'for...   \n",
              "\n",
              "                                          lemmatized  \\\n",
              "0  ['worldcom', 'exboss', 'launch', 'defence', 'l...   \n",
              "1  ['german', 'business', 'confidence', 'slide', ...   \n",
              "2  ['bbc', 'poll', 'indicates', 'economic', 'gloo...   \n",
              "3  ['lifestyle', 'governs', 'mobile', 'choice', '...   \n",
              "4  ['enron', 'boss', 'payout', 'eighteen', 'forme...   \n",
              "\n",
              "                                            lem_sent  n_words  \n",
              "0  worldcom exboss launch defence lawyer defendin...      185  \n",
              "1  german business confidence slide german busine...      194  \n",
              "2  bbc poll indicates economic gloom citizen majo...      267  \n",
              "3  lifestyle governs mobile choice faster better ...      344  \n",
              "4  enron boss payout eighteen former enron direct...      198  "
            ],
            "text/html": [
              "\n",
              "  <div id=\"df-79751e8b-af94-4dd9-9a70-77c34b7163b0\">\n",
              "    <div class=\"colab-df-container\">\n",
              "      <div>\n",
              "<style scoped>\n",
              "    .dataframe tbody tr th:only-of-type {\n",
              "        vertical-align: middle;\n",
              "    }\n",
              "\n",
              "    .dataframe tbody tr th {\n",
              "        vertical-align: top;\n",
              "    }\n",
              "\n",
              "    .dataframe thead th {\n",
              "        text-align: right;\n",
              "    }\n",
              "</style>\n",
              "<table border=\"1\" class=\"dataframe\">\n",
              "  <thead>\n",
              "    <tr style=\"text-align: right;\">\n",
              "      <th></th>\n",
              "      <th>Unnamed: 0</th>\n",
              "      <th>ArticleId</th>\n",
              "      <th>Text</th>\n",
              "      <th>Category</th>\n",
              "      <th>n_word_token</th>\n",
              "      <th>word_tokens</th>\n",
              "      <th>majority</th>\n",
              "      <th>majority_n</th>\n",
              "      <th>no_punct</th>\n",
              "      <th>no_punct_num</th>\n",
              "      <th>no_stopwords</th>\n",
              "      <th>clean_text</th>\n",
              "      <th>tokenized</th>\n",
              "      <th>lemmatized</th>\n",
              "      <th>lem_sent</th>\n",
              "      <th>n_words</th>\n",
              "    </tr>\n",
              "  </thead>\n",
              "  <tbody>\n",
              "    <tr>\n",
              "      <th>0</th>\n",
              "      <td>0</td>\n",
              "      <td>1833</td>\n",
              "      <td>worldcom ex-boss launches defence lawyers defe...</td>\n",
              "      <td>business</td>\n",
              "      <td>18</td>\n",
              "      <td>['last', 'week', 'mci', 'agreed', 'to', 'a', '...</td>\n",
              "      <td>a</td>\n",
              "      <td>2</td>\n",
              "      <td>worldcom exboss launches defence lawyers defen...</td>\n",
              "      <td>worldcom exboss launches defence lawyers defen...</td>\n",
              "      <td>worldcom exboss launches defence lawyers defen...</td>\n",
              "      <td>worldcom exboss launches defence lawyers defen...</td>\n",
              "      <td>['worldcom', 'exboss', 'launches', 'defence', ...</td>\n",
              "      <td>['worldcom', 'exboss', 'launch', 'defence', 'l...</td>\n",
              "      <td>worldcom exboss launch defence lawyer defendin...</td>\n",
              "      <td>185</td>\n",
              "    </tr>\n",
              "    <tr>\n",
              "      <th>1</th>\n",
              "      <td>1</td>\n",
              "      <td>154</td>\n",
              "      <td>german business confidence slides german busin...</td>\n",
              "      <td>business</td>\n",
              "      <td>28</td>\n",
              "      <td>['eurozone', 'interest', 'rates', 'are', 'at',...</td>\n",
              "      <td>interest</td>\n",
              "      <td>2</td>\n",
              "      <td>german business confidence slides german busin...</td>\n",
              "      <td>german business confidence slides german busin...</td>\n",
              "      <td>german business confidence slides german busin...</td>\n",
              "      <td>german business confidence slides german busin...</td>\n",
              "      <td>['german', 'business', 'confidence', 'slides',...</td>\n",
              "      <td>['german', 'business', 'confidence', 'slide', ...</td>\n",
              "      <td>german business confidence slide german busine...</td>\n",
              "      <td>194</td>\n",
              "    </tr>\n",
              "    <tr>\n",
              "      <th>2</th>\n",
              "      <td>2</td>\n",
              "      <td>1101</td>\n",
              "      <td>bbc poll indicates economic gloom citizens in ...</td>\n",
              "      <td>business</td>\n",
              "      <td>14</td>\n",
              "      <td>['in', 'eight', 'of', 'the', 'countries', 'the...</td>\n",
              "      <td>the</td>\n",
              "      <td>2</td>\n",
              "      <td>bbc poll indicates economic gloom citizens in ...</td>\n",
              "      <td>bbc poll indicates economic gloom citizens in ...</td>\n",
              "      <td>bbc poll indicates economic gloom citizens maj...</td>\n",
              "      <td>bbc poll indicates economic gloom citizens maj...</td>\n",
              "      <td>['bbc', 'poll', 'indicates', 'economic', 'gloo...</td>\n",
              "      <td>['bbc', 'poll', 'indicates', 'economic', 'gloo...</td>\n",
              "      <td>bbc poll indicates economic gloom citizen majo...</td>\n",
              "      <td>267</td>\n",
              "    </tr>\n",
              "    <tr>\n",
              "      <th>3</th>\n",
              "      <td>3</td>\n",
              "      <td>1976</td>\n",
              "      <td>lifestyle  governs mobile choice  faster  bett...</td>\n",
              "      <td>tech</td>\n",
              "      <td>23</td>\n",
              "      <td>['by', 'contrast', 'he', 'said', 'camera', 'ph...</td>\n",
              "      <td>were</td>\n",
              "      <td>2</td>\n",
              "      <td>lifestyle  governs mobile choice  faster  bett...</td>\n",
              "      <td>lifestyle  governs mobile choice  faster  bett...</td>\n",
              "      <td>lifestyle governs mobile choice faster better ...</td>\n",
              "      <td>lifestyle governs mobile choice faster better ...</td>\n",
              "      <td>['lifestyle', 'governs', 'mobile', 'choice', '...</td>\n",
              "      <td>['lifestyle', 'governs', 'mobile', 'choice', '...</td>\n",
              "      <td>lifestyle governs mobile choice faster better ...</td>\n",
              "      <td>344</td>\n",
              "    </tr>\n",
              "    <tr>\n",
              "      <th>4</th>\n",
              "      <td>4</td>\n",
              "      <td>917</td>\n",
              "      <td>enron bosses in $168m payout eighteen former e...</td>\n",
              "      <td>business</td>\n",
              "      <td>42</td>\n",
              "      <td>['the', 'university', 'of', 'california', 'sai...</td>\n",
              "      <td>the</td>\n",
              "      <td>5</td>\n",
              "      <td>enron bosses in 168m payout eighteen former en...</td>\n",
              "      <td>enron bosses in m payout eighteen former enron...</td>\n",
              "      <td>enron bosses payout eighteen former enron dire...</td>\n",
              "      <td>enron bosses payout eighteen former enron dire...</td>\n",
              "      <td>['enron', 'bosses', 'payout', 'eighteen', 'for...</td>\n",
              "      <td>['enron', 'boss', 'payout', 'eighteen', 'forme...</td>\n",
              "      <td>enron boss payout eighteen former enron direct...</td>\n",
              "      <td>198</td>\n",
              "    </tr>\n",
              "  </tbody>\n",
              "</table>\n",
              "</div>\n",
              "      <button class=\"colab-df-convert\" onclick=\"convertToInteractive('df-79751e8b-af94-4dd9-9a70-77c34b7163b0')\"\n",
              "              title=\"Convert this dataframe to an interactive table.\"\n",
              "              style=\"display:none;\">\n",
              "        \n",
              "  <svg xmlns=\"http://www.w3.org/2000/svg\" height=\"24px\"viewBox=\"0 0 24 24\"\n",
              "       width=\"24px\">\n",
              "    <path d=\"M0 0h24v24H0V0z\" fill=\"none\"/>\n",
              "    <path d=\"M18.56 5.44l.94 2.06.94-2.06 2.06-.94-2.06-.94-.94-2.06-.94 2.06-2.06.94zm-11 1L8.5 8.5l.94-2.06 2.06-.94-2.06-.94L8.5 2.5l-.94 2.06-2.06.94zm10 10l.94 2.06.94-2.06 2.06-.94-2.06-.94-.94-2.06-.94 2.06-2.06.94z\"/><path d=\"M17.41 7.96l-1.37-1.37c-.4-.4-.92-.59-1.43-.59-.52 0-1.04.2-1.43.59L10.3 9.45l-7.72 7.72c-.78.78-.78 2.05 0 2.83L4 21.41c.39.39.9.59 1.41.59.51 0 1.02-.2 1.41-.59l7.78-7.78 2.81-2.81c.8-.78.8-2.07 0-2.86zM5.41 20L4 18.59l7.72-7.72 1.47 1.35L5.41 20z\"/>\n",
              "  </svg>\n",
              "      </button>\n",
              "      \n",
              "  <style>\n",
              "    .colab-df-container {\n",
              "      display:flex;\n",
              "      flex-wrap:wrap;\n",
              "      gap: 12px;\n",
              "    }\n",
              "\n",
              "    .colab-df-convert {\n",
              "      background-color: #E8F0FE;\n",
              "      border: none;\n",
              "      border-radius: 50%;\n",
              "      cursor: pointer;\n",
              "      display: none;\n",
              "      fill: #1967D2;\n",
              "      height: 32px;\n",
              "      padding: 0 0 0 0;\n",
              "      width: 32px;\n",
              "    }\n",
              "\n",
              "    .colab-df-convert:hover {\n",
              "      background-color: #E2EBFA;\n",
              "      box-shadow: 0px 1px 2px rgba(60, 64, 67, 0.3), 0px 1px 3px 1px rgba(60, 64, 67, 0.15);\n",
              "      fill: #174EA6;\n",
              "    }\n",
              "\n",
              "    [theme=dark] .colab-df-convert {\n",
              "      background-color: #3B4455;\n",
              "      fill: #D2E3FC;\n",
              "    }\n",
              "\n",
              "    [theme=dark] .colab-df-convert:hover {\n",
              "      background-color: #434B5C;\n",
              "      box-shadow: 0px 1px 3px 1px rgba(0, 0, 0, 0.15);\n",
              "      filter: drop-shadow(0px 1px 2px rgba(0, 0, 0, 0.3));\n",
              "      fill: #FFFFFF;\n",
              "    }\n",
              "  </style>\n",
              "\n",
              "      <script>\n",
              "        const buttonEl =\n",
              "          document.querySelector('#df-79751e8b-af94-4dd9-9a70-77c34b7163b0 button.colab-df-convert');\n",
              "        buttonEl.style.display =\n",
              "          google.colab.kernel.accessAllowed ? 'block' : 'none';\n",
              "\n",
              "        async function convertToInteractive(key) {\n",
              "          const element = document.querySelector('#df-79751e8b-af94-4dd9-9a70-77c34b7163b0');\n",
              "          const dataTable =\n",
              "            await google.colab.kernel.invokeFunction('convertToInteractive',\n",
              "                                                     [key], {});\n",
              "          if (!dataTable) return;\n",
              "\n",
              "          const docLinkHtml = 'Like what you see? Visit the ' +\n",
              "            '<a target=\"_blank\" href=https://colab.research.google.com/notebooks/data_table.ipynb>data table notebook</a>'\n",
              "            + ' to learn more about interactive tables.';\n",
              "          element.innerHTML = '';\n",
              "          dataTable['output_type'] = 'display_data';\n",
              "          await google.colab.output.renderOutput(dataTable, element);\n",
              "          const docLink = document.createElement('div');\n",
              "          docLink.innerHTML = docLinkHtml;\n",
              "          element.appendChild(docLink);\n",
              "        }\n",
              "      </script>\n",
              "    </div>\n",
              "  </div>\n",
              "  "
            ]
          },
          "metadata": {},
          "execution_count": 7
        }
      ]
    },
    {
      "cell_type": "code",
      "source": [
        "train.shape"
      ],
      "metadata": {
        "colab": {
          "base_uri": "https://localhost:8080/"
        },
        "id": "BZgHOm47b_SK",
        "outputId": "7cd7ecec-b922-4921-9fec-fceeb849f702"
      },
      "execution_count": null,
      "outputs": [
        {
          "output_type": "execute_result",
          "data": {
            "text/plain": [
              "(1484, 16)"
            ]
          },
          "metadata": {},
          "execution_count": 8
        }
      ]
    },
    {
      "cell_type": "code",
      "source": [
        "train_df = train.copy()"
      ],
      "metadata": {
        "id": "ae2NwHy_u9R2"
      },
      "execution_count": null,
      "outputs": []
    },
    {
      "cell_type": "markdown",
      "source": [
        "# Non negative Matrix Factorization & Prediction & Permutation"
      ],
      "metadata": {
        "id": "D8tITvc93RhL"
      }
    },
    {
      "cell_type": "code",
      "source": [
        "# Matrix has 5 scores for each observations, and index of the biggest value is prediciton\n",
        "def predict(matrix):\n",
        "    return np.argmax(matrix, axis=1)"
      ],
      "metadata": {
        "id": "j_QdIAzs6JBO"
      },
      "execution_count": null,
      "outputs": []
    },
    {
      "cell_type": "code",
      "source": [
        "# Eventhough model assign some values, but we have no idea which Category should match to each index\n",
        "# As iterating the permutation of index, we check what combination gives the best accuracy\n",
        "def label_permute(df, pred_array, permute_list=[], n=5):\n",
        "    target_labels = train.Category.unique()\n",
        "    # Permutation list is not given, it needs to check combination\n",
        "    if permute_list == []:\n",
        "        permute_list = list(itertools.permutations(range(n)))\n",
        "        pbar = tqdm(permute_list)\n",
        "        best_acc = 0\n",
        "        best_label = []\n",
        "        for perm in pbar:\n",
        "            label_candidate = {label:i for label,i in zip(target_labels, perm)}\n",
        "            df['target'] = df['Category'].map(label_candidate)\n",
        "            acc = accuracy_score(df['target'], pred_array)\n",
        "            if acc >= best_acc:\n",
        "                best_acc = acc\n",
        "                best_label = perm\n",
        "                df['best'] = df['target']\n",
        "        return best_label, best_acc, df\n",
        "    # Previously checked permutation is given, assign label by the permutation\n",
        "    else:\n",
        "        if 'Category' in df.columns:\n",
        "            # edit the category as numerial label\n",
        "            label_candidate = {label:i for label,i in zip(target_labels, permute_list)}\n",
        "            df['target'] = df['Category'].map(label_candidate)\n",
        "            # calculate accuracy comparing target and prediction\n",
        "            acc = accuracy_score(df['target'], pred_array)\n",
        "            return permute_list, acc, df\n",
        "        else:\n",
        "            # In case of test dataset that has no Category column (target)\n",
        "            df['pred'] =  pred_array\n",
        "            # convert prediction into string category to submit to Kaggle\n",
        "            label_candidate = {i:label for label,i in zip(target_labels, permute_list)}\n",
        "            df['pred'] = df['pred'].apply(lambda x: label_candidate[x])\n",
        "            return permute_list, 0, df\n",
        "\n",
        "    return best_label, best_acc, df"
      ],
      "metadata": {
        "id": "OgbpTvtl7vPE"
      },
      "execution_count": null,
      "outputs": []
    },
    {
      "cell_type": "code",
      "source": [
        "# create dictionary which give index of each category by permutation list\n",
        "def get_permute_dict(df, perm):\n",
        "    target_labels = df.Category.unique()\n",
        "    perm_dict = {label:i for label,i in zip(target_labels, perm)}\n",
        "    return perm_dict"
      ],
      "metadata": {
        "id": "HF8yUY0Rv5pL"
      },
      "execution_count": null,
      "outputs": []
    },
    {
      "cell_type": "code",
      "source": [
        "# predict by Non negative Matrix Factorization\n",
        "def predict_nmf(df, param, tfidvec='', nmf_model=''):\n",
        "    max_v = param['max_df']\n",
        "    min_v = param['min_df']\n",
        "    norm = param['norm']\n",
        "    permute_list = param['permutation']\n",
        "    # Train new tfidfvectorizer if a vectorizer is not given\n",
        "    if tfidvec == '':\n",
        "        tfidvec = TfidfVectorizer(stop_words = 'english', max_df=max_v, min_df=min_v, norm=norm)\n",
        "        tfidvec_df = tfidvec.fit_transform(df['lem_sent'])\n",
        "    else:\n",
        "        tfidvec_df = tfidvec.transform(df['lem_sent'])\n",
        "\n",
        "    # If NMF model is not given, train new one.\n",
        "    if nmf_model == '':\n",
        "        nmf_model = NMF(n_components=5,\n",
        "                        random_state=4200\n",
        "                        )\n",
        "        nmf_model.fit(tfidvec_df)\n",
        "    else:\n",
        "        pass\n",
        "\n",
        "    vector = nmf_model.transform(tfidvec_df)\n",
        "\n",
        "    # predict by vector using argmax\n",
        "    pred = predict(vector)\n",
        "\n",
        "    # permute label of the prediction\n",
        "    if permute_list != []:\n",
        "        label, acc, df = label_permute(df, pred, permute_list)\n",
        "    else:\n",
        "        label, acc, df = label_permute(df, pred)\n",
        "    return label, acc, pred, df, tfidvec, nmf_model"
      ],
      "metadata": {
        "id": "zMSEcwU495wS"
      },
      "execution_count": null,
      "outputs": []
    },
    {
      "cell_type": "markdown",
      "source": [
        "## Search around combination of hyperparameters of TfidfVectorizer"
      ],
      "metadata": {
        "id": "5voTnlU0H-T5"
      }
    },
    {
      "cell_type": "code",
      "source": [
        "# find best parameter combination through for loop\n",
        "best_acc = 0\n",
        "best_parameters = {}\n",
        "best_tfidvec = ''\n",
        "best_nmf = ''\n",
        "for norm in ['l1','l2']:\n",
        "    for max_v in np.arange(0,1,0.05):\n",
        "        for min_v in np.arange(0,5):\n",
        "            try:\n",
        "                param = {'max_df':max_v, 'min_df':min_v, 'norm':norm, 'permutation':[]}\n",
        "                label, acc, pred, train_df, tfidvec, nmf = predict_nmf(train_df, param)\n",
        "                if acc >= best_acc:\n",
        "                    best_acc = acc\n",
        "                    best_parameters['permutation'] = label\n",
        "                    best_parameters['norm'] = norm\n",
        "                    best_parameters['max_df'] = max_v\n",
        "                    best_parameters['min_df'] = min_v\n",
        "                    best_tfidvec = tfidvec\n",
        "                    best_nmf = nmf\n",
        "                    print(\"best so far\")\n",
        "                    print(norm, max_v, min_v, label)\n",
        "                    print(acc)\n",
        "            except:\n",
        "                continue\n",
        "print(best_parameters)\n",
        "print(best_acc)"
      ],
      "metadata": {
        "colab": {
          "base_uri": "https://localhost:8080/"
        },
        "id": "EiaQRzqJ1L0K",
        "outputId": "58de25f0-1d8e-4a8f-e880-60b8066312e2"
      },
      "execution_count": null,
      "outputs": [
        {
          "output_type": "stream",
          "name": "stderr",
          "text": [
            "/usr/local/lib/python3.8/dist-packages/sklearn/decomposition/_nmf.py:289: FutureWarning: The 'init' value, when 'init=None' and n_components is less than n_samples and n_features, will be changed from 'nndsvd' to 'nndsvda' in 1.1 (renaming of 0.26).\n",
            "  warnings.warn(\n",
            "100%|██████████| 120/120 [00:00<00:00, 717.21it/s]\n"
          ]
        },
        {
          "output_type": "stream",
          "name": "stdout",
          "text": [
            "best so far\n",
            "l1 0.05 0 (0, 2, 1, 4, 3)\n",
            "0.6482479784366577\n"
          ]
        },
        {
          "output_type": "stream",
          "name": "stderr",
          "text": [
            "/usr/local/lib/python3.8/dist-packages/sklearn/decomposition/_nmf.py:289: FutureWarning: The 'init' value, when 'init=None' and n_components is less than n_samples and n_features, will be changed from 'nndsvd' to 'nndsvda' in 1.1 (renaming of 0.26).\n",
            "  warnings.warn(\n",
            "100%|██████████| 120/120 [00:00<00:00, 767.49it/s]\n"
          ]
        },
        {
          "output_type": "stream",
          "name": "stdout",
          "text": [
            "best so far\n",
            "l1 0.05 1 (0, 2, 1, 4, 3)\n",
            "0.6482479784366577\n"
          ]
        },
        {
          "output_type": "stream",
          "name": "stderr",
          "text": [
            "/usr/local/lib/python3.8/dist-packages/sklearn/decomposition/_nmf.py:289: FutureWarning: The 'init' value, when 'init=None' and n_components is less than n_samples and n_features, will be changed from 'nndsvd' to 'nndsvda' in 1.1 (renaming of 0.26).\n",
            "  warnings.warn(\n",
            "100%|██████████| 120/120 [00:00<00:00, 690.99it/s]\n"
          ]
        },
        {
          "output_type": "stream",
          "name": "stdout",
          "text": [
            "best so far\n",
            "l1 0.05 2 (0, 2, 1, 4, 3)\n",
            "0.6684636118598383\n"
          ]
        },
        {
          "output_type": "stream",
          "name": "stderr",
          "text": [
            "/usr/local/lib/python3.8/dist-packages/sklearn/decomposition/_nmf.py:289: FutureWarning: The 'init' value, when 'init=None' and n_components is less than n_samples and n_features, will be changed from 'nndsvd' to 'nndsvda' in 1.1 (renaming of 0.26).\n",
            "  warnings.warn(\n",
            "100%|██████████| 120/120 [00:00<00:00, 747.82it/s]\n"
          ]
        },
        {
          "output_type": "stream",
          "name": "stdout",
          "text": [
            "best so far\n",
            "l1 0.05 3 (0, 2, 1, 4, 3)\n",
            "0.671832884097035\n"
          ]
        },
        {
          "output_type": "stream",
          "name": "stderr",
          "text": [
            "/usr/local/lib/python3.8/dist-packages/sklearn/decomposition/_nmf.py:289: FutureWarning: The 'init' value, when 'init=None' and n_components is less than n_samples and n_features, will be changed from 'nndsvd' to 'nndsvda' in 1.1 (renaming of 0.26).\n",
            "  warnings.warn(\n",
            "100%|██████████| 120/120 [00:00<00:00, 725.60it/s]\n"
          ]
        },
        {
          "output_type": "stream",
          "name": "stdout",
          "text": [
            "best so far\n",
            "l1 0.05 4 (0, 3, 1, 4, 2)\n",
            "0.6745283018867925\n"
          ]
        },
        {
          "output_type": "stream",
          "name": "stderr",
          "text": [
            "/usr/local/lib/python3.8/dist-packages/sklearn/decomposition/_nmf.py:289: FutureWarning: The 'init' value, when 'init=None' and n_components is less than n_samples and n_features, will be changed from 'nndsvd' to 'nndsvda' in 1.1 (renaming of 0.26).\n",
            "  warnings.warn(\n",
            "/usr/local/lib/python3.8/dist-packages/sklearn/decomposition/_nmf.py:1637: ConvergenceWarning: Maximum number of iterations 200 reached. Increase it to improve convergence.\n",
            "  warnings.warn(\n",
            "100%|██████████| 120/120 [00:00<00:00, 741.69it/s]\n"
          ]
        },
        {
          "output_type": "stream",
          "name": "stdout",
          "text": [
            "best so far\n",
            "l1 0.1 0 (3, 4, 0, 2, 1)\n",
            "0.7297843665768194\n"
          ]
        },
        {
          "output_type": "stream",
          "name": "stderr",
          "text": [
            "/usr/local/lib/python3.8/dist-packages/sklearn/decomposition/_nmf.py:289: FutureWarning: The 'init' value, when 'init=None' and n_components is less than n_samples and n_features, will be changed from 'nndsvd' to 'nndsvda' in 1.1 (renaming of 0.26).\n",
            "  warnings.warn(\n",
            "/usr/local/lib/python3.8/dist-packages/sklearn/decomposition/_nmf.py:1637: ConvergenceWarning: Maximum number of iterations 200 reached. Increase it to improve convergence.\n",
            "  warnings.warn(\n",
            "100%|██████████| 120/120 [00:00<00:00, 724.40it/s]\n"
          ]
        },
        {
          "output_type": "stream",
          "name": "stdout",
          "text": [
            "best so far\n",
            "l1 0.1 1 (3, 4, 0, 2, 1)\n",
            "0.7297843665768194\n"
          ]
        },
        {
          "output_type": "stream",
          "name": "stderr",
          "text": [
            "/usr/local/lib/python3.8/dist-packages/sklearn/decomposition/_nmf.py:289: FutureWarning: The 'init' value, when 'init=None' and n_components is less than n_samples and n_features, will be changed from 'nndsvd' to 'nndsvda' in 1.1 (renaming of 0.26).\n",
            "  warnings.warn(\n",
            "100%|██████████| 120/120 [00:00<00:00, 740.13it/s]\n"
          ]
        },
        {
          "output_type": "stream",
          "name": "stdout",
          "text": [
            "best so far\n",
            "l1 0.1 2 (0, 1, 3, 2, 4)\n",
            "0.9198113207547169\n"
          ]
        },
        {
          "output_type": "stream",
          "name": "stderr",
          "text": [
            "/usr/local/lib/python3.8/dist-packages/sklearn/decomposition/_nmf.py:289: FutureWarning: The 'init' value, when 'init=None' and n_components is less than n_samples and n_features, will be changed from 'nndsvd' to 'nndsvda' in 1.1 (renaming of 0.26).\n",
            "  warnings.warn(\n",
            "100%|██████████| 120/120 [00:00<00:00, 669.85it/s]\n"
          ]
        },
        {
          "output_type": "stream",
          "name": "stdout",
          "text": [
            "best so far\n",
            "l1 0.1 3 (2, 1, 3, 0, 4)\n",
            "0.9386792452830188\n"
          ]
        },
        {
          "output_type": "stream",
          "name": "stderr",
          "text": [
            "/usr/local/lib/python3.8/dist-packages/sklearn/decomposition/_nmf.py:289: FutureWarning: The 'init' value, when 'init=None' and n_components is less than n_samples and n_features, will be changed from 'nndsvd' to 'nndsvda' in 1.1 (renaming of 0.26).\n",
            "  warnings.warn(\n",
            "100%|██████████| 120/120 [00:00<00:00, 746.57it/s]\n",
            "/usr/local/lib/python3.8/dist-packages/sklearn/decomposition/_nmf.py:289: FutureWarning: The 'init' value, when 'init=None' and n_components is less than n_samples and n_features, will be changed from 'nndsvd' to 'nndsvda' in 1.1 (renaming of 0.26).\n",
            "  warnings.warn(\n",
            "100%|██████████| 120/120 [00:00<00:00, 770.06it/s]\n"
          ]
        },
        {
          "output_type": "stream",
          "name": "stdout",
          "text": [
            "best so far\n",
            "l1 0.15000000000000002 0 (2, 4, 1, 0, 3)\n",
            "0.9386792452830188\n"
          ]
        },
        {
          "output_type": "stream",
          "name": "stderr",
          "text": [
            "/usr/local/lib/python3.8/dist-packages/sklearn/decomposition/_nmf.py:289: FutureWarning: The 'init' value, when 'init=None' and n_components is less than n_samples and n_features, will be changed from 'nndsvd' to 'nndsvda' in 1.1 (renaming of 0.26).\n",
            "  warnings.warn(\n",
            "100%|██████████| 120/120 [00:00<00:00, 738.08it/s]\n"
          ]
        },
        {
          "output_type": "stream",
          "name": "stdout",
          "text": [
            "best so far\n",
            "l1 0.15000000000000002 1 (2, 4, 1, 0, 3)\n",
            "0.9386792452830188\n"
          ]
        },
        {
          "output_type": "stream",
          "name": "stderr",
          "text": [
            "/usr/local/lib/python3.8/dist-packages/sklearn/decomposition/_nmf.py:289: FutureWarning: The 'init' value, when 'init=None' and n_components is less than n_samples and n_features, will be changed from 'nndsvd' to 'nndsvda' in 1.1 (renaming of 0.26).\n",
            "  warnings.warn(\n",
            "100%|██████████| 120/120 [00:00<00:00, 766.11it/s]\n",
            "/usr/local/lib/python3.8/dist-packages/sklearn/decomposition/_nmf.py:289: FutureWarning: The 'init' value, when 'init=None' and n_components is less than n_samples and n_features, will be changed from 'nndsvd' to 'nndsvda' in 1.1 (renaming of 0.26).\n",
            "  warnings.warn(\n",
            "100%|██████████| 120/120 [00:00<00:00, 693.37it/s]\n",
            "/usr/local/lib/python3.8/dist-packages/sklearn/decomposition/_nmf.py:289: FutureWarning: The 'init' value, when 'init=None' and n_components is less than n_samples and n_features, will be changed from 'nndsvd' to 'nndsvda' in 1.1 (renaming of 0.26).\n",
            "  warnings.warn(\n",
            "100%|██████████| 120/120 [00:00<00:00, 715.39it/s]\n",
            "/usr/local/lib/python3.8/dist-packages/sklearn/decomposition/_nmf.py:289: FutureWarning: The 'init' value, when 'init=None' and n_components is less than n_samples and n_features, will be changed from 'nndsvd' to 'nndsvda' in 1.1 (renaming of 0.26).\n",
            "  warnings.warn(\n",
            "100%|██████████| 120/120 [00:00<00:00, 312.01it/s]\n",
            "/usr/local/lib/python3.8/dist-packages/sklearn/decomposition/_nmf.py:289: FutureWarning: The 'init' value, when 'init=None' and n_components is less than n_samples and n_features, will be changed from 'nndsvd' to 'nndsvda' in 1.1 (renaming of 0.26).\n",
            "  warnings.warn(\n",
            "100%|██████████| 120/120 [00:00<00:00, 329.51it/s]\n",
            "/usr/local/lib/python3.8/dist-packages/sklearn/decomposition/_nmf.py:289: FutureWarning: The 'init' value, when 'init=None' and n_components is less than n_samples and n_features, will be changed from 'nndsvd' to 'nndsvda' in 1.1 (renaming of 0.26).\n",
            "  warnings.warn(\n",
            "100%|██████████| 120/120 [00:00<00:00, 716.42it/s]\n",
            "/usr/local/lib/python3.8/dist-packages/sklearn/decomposition/_nmf.py:289: FutureWarning: The 'init' value, when 'init=None' and n_components is less than n_samples and n_features, will be changed from 'nndsvd' to 'nndsvda' in 1.1 (renaming of 0.26).\n",
            "  warnings.warn(\n",
            "100%|██████████| 120/120 [00:00<00:00, 723.81it/s]\n",
            "/usr/local/lib/python3.8/dist-packages/sklearn/decomposition/_nmf.py:289: FutureWarning: The 'init' value, when 'init=None' and n_components is less than n_samples and n_features, will be changed from 'nndsvd' to 'nndsvda' in 1.1 (renaming of 0.26).\n",
            "  warnings.warn(\n",
            "100%|██████████| 120/120 [00:00<00:00, 753.83it/s]\n",
            "/usr/local/lib/python3.8/dist-packages/sklearn/decomposition/_nmf.py:289: FutureWarning: The 'init' value, when 'init=None' and n_components is less than n_samples and n_features, will be changed from 'nndsvd' to 'nndsvda' in 1.1 (renaming of 0.26).\n",
            "  warnings.warn(\n",
            "100%|██████████| 120/120 [00:00<00:00, 743.87it/s]\n",
            "/usr/local/lib/python3.8/dist-packages/sklearn/decomposition/_nmf.py:289: FutureWarning: The 'init' value, when 'init=None' and n_components is less than n_samples and n_features, will be changed from 'nndsvd' to 'nndsvda' in 1.1 (renaming of 0.26).\n",
            "  warnings.warn(\n",
            "100%|██████████| 120/120 [00:00<00:00, 723.91it/s]\n",
            "/usr/local/lib/python3.8/dist-packages/sklearn/decomposition/_nmf.py:289: FutureWarning: The 'init' value, when 'init=None' and n_components is less than n_samples and n_features, will be changed from 'nndsvd' to 'nndsvda' in 1.1 (renaming of 0.26).\n",
            "  warnings.warn(\n",
            "100%|██████████| 120/120 [00:00<00:00, 736.77it/s]\n",
            "/usr/local/lib/python3.8/dist-packages/sklearn/decomposition/_nmf.py:289: FutureWarning: The 'init' value, when 'init=None' and n_components is less than n_samples and n_features, will be changed from 'nndsvd' to 'nndsvda' in 1.1 (renaming of 0.26).\n",
            "  warnings.warn(\n",
            "100%|██████████| 120/120 [00:00<00:00, 686.84it/s]\n",
            "/usr/local/lib/python3.8/dist-packages/sklearn/decomposition/_nmf.py:289: FutureWarning: The 'init' value, when 'init=None' and n_components is less than n_samples and n_features, will be changed from 'nndsvd' to 'nndsvda' in 1.1 (renaming of 0.26).\n",
            "  warnings.warn(\n",
            "100%|██████████| 120/120 [00:00<00:00, 698.79it/s]\n",
            "/usr/local/lib/python3.8/dist-packages/sklearn/decomposition/_nmf.py:289: FutureWarning: The 'init' value, when 'init=None' and n_components is less than n_samples and n_features, will be changed from 'nndsvd' to 'nndsvda' in 1.1 (renaming of 0.26).\n",
            "  warnings.warn(\n",
            "100%|██████████| 120/120 [00:00<00:00, 784.49it/s]\n",
            "/usr/local/lib/python3.8/dist-packages/sklearn/decomposition/_nmf.py:289: FutureWarning: The 'init' value, when 'init=None' and n_components is less than n_samples and n_features, will be changed from 'nndsvd' to 'nndsvda' in 1.1 (renaming of 0.26).\n",
            "  warnings.warn(\n",
            "100%|██████████| 120/120 [00:00<00:00, 770.23it/s]\n",
            "/usr/local/lib/python3.8/dist-packages/sklearn/decomposition/_nmf.py:289: FutureWarning: The 'init' value, when 'init=None' and n_components is less than n_samples and n_features, will be changed from 'nndsvd' to 'nndsvda' in 1.1 (renaming of 0.26).\n",
            "  warnings.warn(\n",
            "100%|██████████| 120/120 [00:00<00:00, 730.16it/s]\n",
            "/usr/local/lib/python3.8/dist-packages/sklearn/decomposition/_nmf.py:289: FutureWarning: The 'init' value, when 'init=None' and n_components is less than n_samples and n_features, will be changed from 'nndsvd' to 'nndsvda' in 1.1 (renaming of 0.26).\n",
            "  warnings.warn(\n",
            "100%|██████████| 120/120 [00:00<00:00, 766.50it/s]\n",
            "/usr/local/lib/python3.8/dist-packages/sklearn/decomposition/_nmf.py:289: FutureWarning: The 'init' value, when 'init=None' and n_components is less than n_samples and n_features, will be changed from 'nndsvd' to 'nndsvda' in 1.1 (renaming of 0.26).\n",
            "  warnings.warn(\n",
            "100%|██████████| 120/120 [00:00<00:00, 741.16it/s]\n",
            "/usr/local/lib/python3.8/dist-packages/sklearn/decomposition/_nmf.py:289: FutureWarning: The 'init' value, when 'init=None' and n_components is less than n_samples and n_features, will be changed from 'nndsvd' to 'nndsvda' in 1.1 (renaming of 0.26).\n",
            "  warnings.warn(\n",
            "100%|██████████| 120/120 [00:00<00:00, 723.76it/s]\n",
            "/usr/local/lib/python3.8/dist-packages/sklearn/decomposition/_nmf.py:289: FutureWarning: The 'init' value, when 'init=None' and n_components is less than n_samples and n_features, will be changed from 'nndsvd' to 'nndsvda' in 1.1 (renaming of 0.26).\n",
            "  warnings.warn(\n",
            "100%|██████████| 120/120 [00:00<00:00, 740.27it/s]\n",
            "/usr/local/lib/python3.8/dist-packages/sklearn/decomposition/_nmf.py:289: FutureWarning: The 'init' value, when 'init=None' and n_components is less than n_samples and n_features, will be changed from 'nndsvd' to 'nndsvda' in 1.1 (renaming of 0.26).\n",
            "  warnings.warn(\n",
            "100%|██████████| 120/120 [00:00<00:00, 747.55it/s]\n",
            "/usr/local/lib/python3.8/dist-packages/sklearn/decomposition/_nmf.py:289: FutureWarning: The 'init' value, when 'init=None' and n_components is less than n_samples and n_features, will be changed from 'nndsvd' to 'nndsvda' in 1.1 (renaming of 0.26).\n",
            "  warnings.warn(\n",
            "100%|██████████| 120/120 [00:00<00:00, 705.37it/s]\n",
            "/usr/local/lib/python3.8/dist-packages/sklearn/decomposition/_nmf.py:289: FutureWarning: The 'init' value, when 'init=None' and n_components is less than n_samples and n_features, will be changed from 'nndsvd' to 'nndsvda' in 1.1 (renaming of 0.26).\n",
            "  warnings.warn(\n",
            "100%|██████████| 120/120 [00:00<00:00, 665.64it/s]\n",
            "/usr/local/lib/python3.8/dist-packages/sklearn/decomposition/_nmf.py:289: FutureWarning: The 'init' value, when 'init=None' and n_components is less than n_samples and n_features, will be changed from 'nndsvd' to 'nndsvda' in 1.1 (renaming of 0.26).\n",
            "  warnings.warn(\n",
            "100%|██████████| 120/120 [00:00<00:00, 735.44it/s]\n",
            "/usr/local/lib/python3.8/dist-packages/sklearn/decomposition/_nmf.py:289: FutureWarning: The 'init' value, when 'init=None' and n_components is less than n_samples and n_features, will be changed from 'nndsvd' to 'nndsvda' in 1.1 (renaming of 0.26).\n",
            "  warnings.warn(\n",
            "100%|██████████| 120/120 [00:00<00:00, 747.64it/s]\n",
            "/usr/local/lib/python3.8/dist-packages/sklearn/decomposition/_nmf.py:289: FutureWarning: The 'init' value, when 'init=None' and n_components is less than n_samples and n_features, will be changed from 'nndsvd' to 'nndsvda' in 1.1 (renaming of 0.26).\n",
            "  warnings.warn(\n",
            "100%|██████████| 120/120 [00:00<00:00, 697.28it/s]\n",
            "/usr/local/lib/python3.8/dist-packages/sklearn/decomposition/_nmf.py:289: FutureWarning: The 'init' value, when 'init=None' and n_components is less than n_samples and n_features, will be changed from 'nndsvd' to 'nndsvda' in 1.1 (renaming of 0.26).\n",
            "  warnings.warn(\n",
            "100%|██████████| 120/120 [00:00<00:00, 692.80it/s]\n",
            "/usr/local/lib/python3.8/dist-packages/sklearn/decomposition/_nmf.py:289: FutureWarning: The 'init' value, when 'init=None' and n_components is less than n_samples and n_features, will be changed from 'nndsvd' to 'nndsvda' in 1.1 (renaming of 0.26).\n",
            "  warnings.warn(\n",
            "100%|██████████| 120/120 [00:00<00:00, 711.60it/s]\n",
            "/usr/local/lib/python3.8/dist-packages/sklearn/decomposition/_nmf.py:289: FutureWarning: The 'init' value, when 'init=None' and n_components is less than n_samples and n_features, will be changed from 'nndsvd' to 'nndsvda' in 1.1 (renaming of 0.26).\n",
            "  warnings.warn(\n",
            "100%|██████████| 120/120 [00:00<00:00, 742.49it/s]\n",
            "/usr/local/lib/python3.8/dist-packages/sklearn/decomposition/_nmf.py:289: FutureWarning: The 'init' value, when 'init=None' and n_components is less than n_samples and n_features, will be changed from 'nndsvd' to 'nndsvda' in 1.1 (renaming of 0.26).\n",
            "  warnings.warn(\n",
            "100%|██████████| 120/120 [00:00<00:00, 273.07it/s]\n",
            "/usr/local/lib/python3.8/dist-packages/sklearn/decomposition/_nmf.py:289: FutureWarning: The 'init' value, when 'init=None' and n_components is less than n_samples and n_features, will be changed from 'nndsvd' to 'nndsvda' in 1.1 (renaming of 0.26).\n",
            "  warnings.warn(\n",
            "100%|██████████| 120/120 [00:00<00:00, 715.90it/s]\n",
            "/usr/local/lib/python3.8/dist-packages/sklearn/decomposition/_nmf.py:289: FutureWarning: The 'init' value, when 'init=None' and n_components is less than n_samples and n_features, will be changed from 'nndsvd' to 'nndsvda' in 1.1 (renaming of 0.26).\n",
            "  warnings.warn(\n",
            "100%|██████████| 120/120 [00:00<00:00, 711.24it/s]\n",
            "/usr/local/lib/python3.8/dist-packages/sklearn/decomposition/_nmf.py:289: FutureWarning: The 'init' value, when 'init=None' and n_components is less than n_samples and n_features, will be changed from 'nndsvd' to 'nndsvda' in 1.1 (renaming of 0.26).\n",
            "  warnings.warn(\n",
            "100%|██████████| 120/120 [00:00<00:00, 706.42it/s]\n",
            "/usr/local/lib/python3.8/dist-packages/sklearn/decomposition/_nmf.py:289: FutureWarning: The 'init' value, when 'init=None' and n_components is less than n_samples and n_features, will be changed from 'nndsvd' to 'nndsvda' in 1.1 (renaming of 0.26).\n",
            "  warnings.warn(\n",
            "100%|██████████| 120/120 [00:00<00:00, 767.25it/s]\n",
            "/usr/local/lib/python3.8/dist-packages/sklearn/decomposition/_nmf.py:289: FutureWarning: The 'init' value, when 'init=None' and n_components is less than n_samples and n_features, will be changed from 'nndsvd' to 'nndsvda' in 1.1 (renaming of 0.26).\n",
            "  warnings.warn(\n",
            "100%|██████████| 120/120 [00:00<00:00, 768.69it/s]\n",
            "/usr/local/lib/python3.8/dist-packages/sklearn/decomposition/_nmf.py:289: FutureWarning: The 'init' value, when 'init=None' and n_components is less than n_samples and n_features, will be changed from 'nndsvd' to 'nndsvda' in 1.1 (renaming of 0.26).\n",
            "  warnings.warn(\n",
            "100%|██████████| 120/120 [00:00<00:00, 707.87it/s]\n",
            "/usr/local/lib/python3.8/dist-packages/sklearn/decomposition/_nmf.py:289: FutureWarning: The 'init' value, when 'init=None' and n_components is less than n_samples and n_features, will be changed from 'nndsvd' to 'nndsvda' in 1.1 (renaming of 0.26).\n",
            "  warnings.warn(\n",
            "100%|██████████| 120/120 [00:00<00:00, 757.34it/s]\n",
            "/usr/local/lib/python3.8/dist-packages/sklearn/decomposition/_nmf.py:289: FutureWarning: The 'init' value, when 'init=None' and n_components is less than n_samples and n_features, will be changed from 'nndsvd' to 'nndsvda' in 1.1 (renaming of 0.26).\n",
            "  warnings.warn(\n",
            "100%|██████████| 120/120 [00:00<00:00, 714.11it/s]\n",
            "/usr/local/lib/python3.8/dist-packages/sklearn/decomposition/_nmf.py:289: FutureWarning: The 'init' value, when 'init=None' and n_components is less than n_samples and n_features, will be changed from 'nndsvd' to 'nndsvda' in 1.1 (renaming of 0.26).\n",
            "  warnings.warn(\n",
            "100%|██████████| 120/120 [00:00<00:00, 750.16it/s]\n",
            "/usr/local/lib/python3.8/dist-packages/sklearn/decomposition/_nmf.py:289: FutureWarning: The 'init' value, when 'init=None' and n_components is less than n_samples and n_features, will be changed from 'nndsvd' to 'nndsvda' in 1.1 (renaming of 0.26).\n",
            "  warnings.warn(\n",
            "100%|██████████| 120/120 [00:00<00:00, 708.31it/s]\n",
            "/usr/local/lib/python3.8/dist-packages/sklearn/decomposition/_nmf.py:289: FutureWarning: The 'init' value, when 'init=None' and n_components is less than n_samples and n_features, will be changed from 'nndsvd' to 'nndsvda' in 1.1 (renaming of 0.26).\n",
            "  warnings.warn(\n",
            "100%|██████████| 120/120 [00:00<00:00, 713.39it/s]\n",
            "/usr/local/lib/python3.8/dist-packages/sklearn/decomposition/_nmf.py:289: FutureWarning: The 'init' value, when 'init=None' and n_components is less than n_samples and n_features, will be changed from 'nndsvd' to 'nndsvda' in 1.1 (renaming of 0.26).\n",
            "  warnings.warn(\n",
            "100%|██████████| 120/120 [00:00<00:00, 757.04it/s]\n",
            "/usr/local/lib/python3.8/dist-packages/sklearn/decomposition/_nmf.py:289: FutureWarning: The 'init' value, when 'init=None' and n_components is less than n_samples and n_features, will be changed from 'nndsvd' to 'nndsvda' in 1.1 (renaming of 0.26).\n",
            "  warnings.warn(\n",
            "100%|██████████| 120/120 [00:00<00:00, 765.29it/s]\n",
            "/usr/local/lib/python3.8/dist-packages/sklearn/decomposition/_nmf.py:289: FutureWarning: The 'init' value, when 'init=None' and n_components is less than n_samples and n_features, will be changed from 'nndsvd' to 'nndsvda' in 1.1 (renaming of 0.26).\n",
            "  warnings.warn(\n",
            "100%|██████████| 120/120 [00:00<00:00, 744.36it/s]\n",
            "/usr/local/lib/python3.8/dist-packages/sklearn/decomposition/_nmf.py:289: FutureWarning: The 'init' value, when 'init=None' and n_components is less than n_samples and n_features, will be changed from 'nndsvd' to 'nndsvda' in 1.1 (renaming of 0.26).\n",
            "  warnings.warn(\n",
            "100%|██████████| 120/120 [00:00<00:00, 751.00it/s]\n",
            "/usr/local/lib/python3.8/dist-packages/sklearn/decomposition/_nmf.py:289: FutureWarning: The 'init' value, when 'init=None' and n_components is less than n_samples and n_features, will be changed from 'nndsvd' to 'nndsvda' in 1.1 (renaming of 0.26).\n",
            "  warnings.warn(\n",
            "100%|██████████| 120/120 [00:00<00:00, 383.59it/s]\n",
            "/usr/local/lib/python3.8/dist-packages/sklearn/decomposition/_nmf.py:289: FutureWarning: The 'init' value, when 'init=None' and n_components is less than n_samples and n_features, will be changed from 'nndsvd' to 'nndsvda' in 1.1 (renaming of 0.26).\n",
            "  warnings.warn(\n",
            "100%|██████████| 120/120 [00:00<00:00, 703.80it/s]\n",
            "/usr/local/lib/python3.8/dist-packages/sklearn/decomposition/_nmf.py:289: FutureWarning: The 'init' value, when 'init=None' and n_components is less than n_samples and n_features, will be changed from 'nndsvd' to 'nndsvda' in 1.1 (renaming of 0.26).\n",
            "  warnings.warn(\n",
            "100%|██████████| 120/120 [00:00<00:00, 183.05it/s]\n",
            "/usr/local/lib/python3.8/dist-packages/sklearn/decomposition/_nmf.py:289: FutureWarning: The 'init' value, when 'init=None' and n_components is less than n_samples and n_features, will be changed from 'nndsvd' to 'nndsvda' in 1.1 (renaming of 0.26).\n",
            "  warnings.warn(\n",
            "100%|██████████| 120/120 [00:00<00:00, 690.28it/s]\n",
            "/usr/local/lib/python3.8/dist-packages/sklearn/decomposition/_nmf.py:289: FutureWarning: The 'init' value, when 'init=None' and n_components is less than n_samples and n_features, will be changed from 'nndsvd' to 'nndsvda' in 1.1 (renaming of 0.26).\n",
            "  warnings.warn(\n",
            "100%|██████████| 120/120 [00:00<00:00, 182.96it/s]\n",
            "/usr/local/lib/python3.8/dist-packages/sklearn/decomposition/_nmf.py:289: FutureWarning: The 'init' value, when 'init=None' and n_components is less than n_samples and n_features, will be changed from 'nndsvd' to 'nndsvda' in 1.1 (renaming of 0.26).\n",
            "  warnings.warn(\n",
            "100%|██████████| 120/120 [00:00<00:00, 738.51it/s]\n",
            "/usr/local/lib/python3.8/dist-packages/sklearn/decomposition/_nmf.py:289: FutureWarning: The 'init' value, when 'init=None' and n_components is less than n_samples and n_features, will be changed from 'nndsvd' to 'nndsvda' in 1.1 (renaming of 0.26).\n",
            "  warnings.warn(\n",
            "100%|██████████| 120/120 [00:00<00:00, 747.87it/s]\n",
            "/usr/local/lib/python3.8/dist-packages/sklearn/decomposition/_nmf.py:289: FutureWarning: The 'init' value, when 'init=None' and n_components is less than n_samples and n_features, will be changed from 'nndsvd' to 'nndsvda' in 1.1 (renaming of 0.26).\n",
            "  warnings.warn(\n",
            "100%|██████████| 120/120 [00:00<00:00, 602.28it/s]\n",
            "/usr/local/lib/python3.8/dist-packages/sklearn/decomposition/_nmf.py:289: FutureWarning: The 'init' value, when 'init=None' and n_components is less than n_samples and n_features, will be changed from 'nndsvd' to 'nndsvda' in 1.1 (renaming of 0.26).\n",
            "  warnings.warn(\n",
            "100%|██████████| 120/120 [00:00<00:00, 739.84it/s]\n",
            "/usr/local/lib/python3.8/dist-packages/sklearn/decomposition/_nmf.py:289: FutureWarning: The 'init' value, when 'init=None' and n_components is less than n_samples and n_features, will be changed from 'nndsvd' to 'nndsvda' in 1.1 (renaming of 0.26).\n",
            "  warnings.warn(\n",
            "100%|██████████| 120/120 [00:00<00:00, 752.78it/s]\n",
            "/usr/local/lib/python3.8/dist-packages/sklearn/decomposition/_nmf.py:289: FutureWarning: The 'init' value, when 'init=None' and n_components is less than n_samples and n_features, will be changed from 'nndsvd' to 'nndsvda' in 1.1 (renaming of 0.26).\n",
            "  warnings.warn(\n",
            "100%|██████████| 120/120 [00:00<00:00, 749.03it/s]\n",
            "/usr/local/lib/python3.8/dist-packages/sklearn/decomposition/_nmf.py:289: FutureWarning: The 'init' value, when 'init=None' and n_components is less than n_samples and n_features, will be changed from 'nndsvd' to 'nndsvda' in 1.1 (renaming of 0.26).\n",
            "  warnings.warn(\n",
            "100%|██████████| 120/120 [00:00<00:00, 718.72it/s]\n",
            "/usr/local/lib/python3.8/dist-packages/sklearn/decomposition/_nmf.py:289: FutureWarning: The 'init' value, when 'init=None' and n_components is less than n_samples and n_features, will be changed from 'nndsvd' to 'nndsvda' in 1.1 (renaming of 0.26).\n",
            "  warnings.warn(\n",
            "100%|██████████| 120/120 [00:00<00:00, 680.02it/s]\n",
            "/usr/local/lib/python3.8/dist-packages/sklearn/decomposition/_nmf.py:289: FutureWarning: The 'init' value, when 'init=None' and n_components is less than n_samples and n_features, will be changed from 'nndsvd' to 'nndsvda' in 1.1 (renaming of 0.26).\n",
            "  warnings.warn(\n",
            "100%|██████████| 120/120 [00:00<00:00, 752.48it/s]\n",
            "/usr/local/lib/python3.8/dist-packages/sklearn/decomposition/_nmf.py:289: FutureWarning: The 'init' value, when 'init=None' and n_components is less than n_samples and n_features, will be changed from 'nndsvd' to 'nndsvda' in 1.1 (renaming of 0.26).\n",
            "  warnings.warn(\n",
            "100%|██████████| 120/120 [00:00<00:00, 724.20it/s]\n",
            "/usr/local/lib/python3.8/dist-packages/sklearn/decomposition/_nmf.py:289: FutureWarning: The 'init' value, when 'init=None' and n_components is less than n_samples and n_features, will be changed from 'nndsvd' to 'nndsvda' in 1.1 (renaming of 0.26).\n",
            "  warnings.warn(\n",
            "100%|██████████| 120/120 [00:00<00:00, 738.81it/s]\n",
            "/usr/local/lib/python3.8/dist-packages/sklearn/decomposition/_nmf.py:289: FutureWarning: The 'init' value, when 'init=None' and n_components is less than n_samples and n_features, will be changed from 'nndsvd' to 'nndsvda' in 1.1 (renaming of 0.26).\n",
            "  warnings.warn(\n",
            "100%|██████████| 120/120 [00:00<00:00, 742.07it/s]\n",
            "/usr/local/lib/python3.8/dist-packages/sklearn/decomposition/_nmf.py:289: FutureWarning: The 'init' value, when 'init=None' and n_components is less than n_samples and n_features, will be changed from 'nndsvd' to 'nndsvda' in 1.1 (renaming of 0.26).\n",
            "  warnings.warn(\n",
            "100%|██████████| 120/120 [00:00<00:00, 715.76it/s]\n",
            "/usr/local/lib/python3.8/dist-packages/sklearn/decomposition/_nmf.py:289: FutureWarning: The 'init' value, when 'init=None' and n_components is less than n_samples and n_features, will be changed from 'nndsvd' to 'nndsvda' in 1.1 (renaming of 0.26).\n",
            "  warnings.warn(\n",
            "100%|██████████| 120/120 [00:00<00:00, 726.56it/s]\n",
            "/usr/local/lib/python3.8/dist-packages/sklearn/decomposition/_nmf.py:289: FutureWarning: The 'init' value, when 'init=None' and n_components is less than n_samples and n_features, will be changed from 'nndsvd' to 'nndsvda' in 1.1 (renaming of 0.26).\n",
            "  warnings.warn(\n",
            "100%|██████████| 120/120 [00:00<00:00, 679.97it/s]\n",
            "/usr/local/lib/python3.8/dist-packages/sklearn/decomposition/_nmf.py:289: FutureWarning: The 'init' value, when 'init=None' and n_components is less than n_samples and n_features, will be changed from 'nndsvd' to 'nndsvda' in 1.1 (renaming of 0.26).\n",
            "  warnings.warn(\n",
            "100%|██████████| 120/120 [00:00<00:00, 699.15it/s]\n",
            "/usr/local/lib/python3.8/dist-packages/sklearn/decomposition/_nmf.py:289: FutureWarning: The 'init' value, when 'init=None' and n_components is less than n_samples and n_features, will be changed from 'nndsvd' to 'nndsvda' in 1.1 (renaming of 0.26).\n",
            "  warnings.warn(\n",
            "100%|██████████| 120/120 [00:00<00:00, 726.61it/s]\n",
            "/usr/local/lib/python3.8/dist-packages/sklearn/decomposition/_nmf.py:289: FutureWarning: The 'init' value, when 'init=None' and n_components is less than n_samples and n_features, will be changed from 'nndsvd' to 'nndsvda' in 1.1 (renaming of 0.26).\n",
            "  warnings.warn(\n",
            "100%|██████████| 120/120 [00:00<00:00, 665.98it/s]\n",
            "/usr/local/lib/python3.8/dist-packages/sklearn/decomposition/_nmf.py:289: FutureWarning: The 'init' value, when 'init=None' and n_components is less than n_samples and n_features, will be changed from 'nndsvd' to 'nndsvda' in 1.1 (renaming of 0.26).\n",
            "  warnings.warn(\n",
            "100%|██████████| 120/120 [00:00<00:00, 710.81it/s]\n",
            "/usr/local/lib/python3.8/dist-packages/sklearn/decomposition/_nmf.py:289: FutureWarning: The 'init' value, when 'init=None' and n_components is less than n_samples and n_features, will be changed from 'nndsvd' to 'nndsvda' in 1.1 (renaming of 0.26).\n",
            "  warnings.warn(\n",
            "100%|██████████| 120/120 [00:00<00:00, 729.57it/s]\n",
            "/usr/local/lib/python3.8/dist-packages/sklearn/decomposition/_nmf.py:289: FutureWarning: The 'init' value, when 'init=None' and n_components is less than n_samples and n_features, will be changed from 'nndsvd' to 'nndsvda' in 1.1 (renaming of 0.26).\n",
            "  warnings.warn(\n",
            "100%|██████████| 120/120 [00:00<00:00, 711.46it/s]\n",
            "/usr/local/lib/python3.8/dist-packages/sklearn/decomposition/_nmf.py:289: FutureWarning: The 'init' value, when 'init=None' and n_components is less than n_samples and n_features, will be changed from 'nndsvd' to 'nndsvda' in 1.1 (renaming of 0.26).\n",
            "  warnings.warn(\n",
            "100%|██████████| 120/120 [00:00<00:00, 698.90it/s]\n",
            "/usr/local/lib/python3.8/dist-packages/sklearn/decomposition/_nmf.py:289: FutureWarning: The 'init' value, when 'init=None' and n_components is less than n_samples and n_features, will be changed from 'nndsvd' to 'nndsvda' in 1.1 (renaming of 0.26).\n",
            "  warnings.warn(\n",
            "100%|██████████| 120/120 [00:00<00:00, 695.19it/s]\n",
            "/usr/local/lib/python3.8/dist-packages/sklearn/decomposition/_nmf.py:289: FutureWarning: The 'init' value, when 'init=None' and n_components is less than n_samples and n_features, will be changed from 'nndsvd' to 'nndsvda' in 1.1 (renaming of 0.26).\n",
            "  warnings.warn(\n",
            "100%|██████████| 120/120 [00:00<00:00, 728.91it/s]\n",
            "/usr/local/lib/python3.8/dist-packages/sklearn/decomposition/_nmf.py:289: FutureWarning: The 'init' value, when 'init=None' and n_components is less than n_samples and n_features, will be changed from 'nndsvd' to 'nndsvda' in 1.1 (renaming of 0.26).\n",
            "  warnings.warn(\n",
            "100%|██████████| 120/120 [00:00<00:00, 753.15it/s]\n",
            "/usr/local/lib/python3.8/dist-packages/sklearn/decomposition/_nmf.py:289: FutureWarning: The 'init' value, when 'init=None' and n_components is less than n_samples and n_features, will be changed from 'nndsvd' to 'nndsvda' in 1.1 (renaming of 0.26).\n",
            "  warnings.warn(\n",
            "100%|██████████| 120/120 [00:00<00:00, 741.13it/s]\n",
            "/usr/local/lib/python3.8/dist-packages/sklearn/decomposition/_nmf.py:289: FutureWarning: The 'init' value, when 'init=None' and n_components is less than n_samples and n_features, will be changed from 'nndsvd' to 'nndsvda' in 1.1 (renaming of 0.26).\n",
            "  warnings.warn(\n",
            "100%|██████████| 120/120 [00:00<00:00, 707.07it/s]\n",
            "/usr/local/lib/python3.8/dist-packages/sklearn/decomposition/_nmf.py:289: FutureWarning: The 'init' value, when 'init=None' and n_components is less than n_samples and n_features, will be changed from 'nndsvd' to 'nndsvda' in 1.1 (renaming of 0.26).\n",
            "  warnings.warn(\n",
            "100%|██████████| 120/120 [00:00<00:00, 651.82it/s]\n",
            "/usr/local/lib/python3.8/dist-packages/sklearn/decomposition/_nmf.py:289: FutureWarning: The 'init' value, when 'init=None' and n_components is less than n_samples and n_features, will be changed from 'nndsvd' to 'nndsvda' in 1.1 (renaming of 0.26).\n",
            "  warnings.warn(\n",
            "100%|██████████| 120/120 [00:00<00:00, 695.62it/s]\n",
            "/usr/local/lib/python3.8/dist-packages/sklearn/decomposition/_nmf.py:289: FutureWarning: The 'init' value, when 'init=None' and n_components is less than n_samples and n_features, will be changed from 'nndsvd' to 'nndsvda' in 1.1 (renaming of 0.26).\n",
            "  warnings.warn(\n",
            "100%|██████████| 120/120 [00:00<00:00, 746.32it/s]\n",
            "/usr/local/lib/python3.8/dist-packages/sklearn/decomposition/_nmf.py:289: FutureWarning: The 'init' value, when 'init=None' and n_components is less than n_samples and n_features, will be changed from 'nndsvd' to 'nndsvda' in 1.1 (renaming of 0.26).\n",
            "  warnings.warn(\n",
            "100%|██████████| 120/120 [00:00<00:00, 739.90it/s]\n",
            "/usr/local/lib/python3.8/dist-packages/sklearn/decomposition/_nmf.py:289: FutureWarning: The 'init' value, when 'init=None' and n_components is less than n_samples and n_features, will be changed from 'nndsvd' to 'nndsvda' in 1.1 (renaming of 0.26).\n",
            "  warnings.warn(\n",
            "100%|██████████| 120/120 [00:00<00:00, 725.44it/s]\n",
            "/usr/local/lib/python3.8/dist-packages/sklearn/decomposition/_nmf.py:289: FutureWarning: The 'init' value, when 'init=None' and n_components is less than n_samples and n_features, will be changed from 'nndsvd' to 'nndsvda' in 1.1 (renaming of 0.26).\n",
            "  warnings.warn(\n",
            "100%|██████████| 120/120 [00:00<00:00, 720.92it/s]\n",
            "/usr/local/lib/python3.8/dist-packages/sklearn/decomposition/_nmf.py:289: FutureWarning: The 'init' value, when 'init=None' and n_components is less than n_samples and n_features, will be changed from 'nndsvd' to 'nndsvda' in 1.1 (renaming of 0.26).\n",
            "  warnings.warn(\n",
            "100%|██████████| 120/120 [00:00<00:00, 717.76it/s]\n",
            "/usr/local/lib/python3.8/dist-packages/sklearn/decomposition/_nmf.py:289: FutureWarning: The 'init' value, when 'init=None' and n_components is less than n_samples and n_features, will be changed from 'nndsvd' to 'nndsvda' in 1.1 (renaming of 0.26).\n",
            "  warnings.warn(\n",
            "100%|██████████| 120/120 [00:00<00:00, 739.85it/s]\n",
            "/usr/local/lib/python3.8/dist-packages/sklearn/decomposition/_nmf.py:289: FutureWarning: The 'init' value, when 'init=None' and n_components is less than n_samples and n_features, will be changed from 'nndsvd' to 'nndsvda' in 1.1 (renaming of 0.26).\n",
            "  warnings.warn(\n",
            "100%|██████████| 120/120 [00:00<00:00, 681.51it/s]\n",
            "/usr/local/lib/python3.8/dist-packages/sklearn/decomposition/_nmf.py:289: FutureWarning: The 'init' value, when 'init=None' and n_components is less than n_samples and n_features, will be changed from 'nndsvd' to 'nndsvda' in 1.1 (renaming of 0.26).\n",
            "  warnings.warn(\n",
            "100%|██████████| 120/120 [00:00<00:00, 685.92it/s]\n",
            "/usr/local/lib/python3.8/dist-packages/sklearn/decomposition/_nmf.py:289: FutureWarning: The 'init' value, when 'init=None' and n_components is less than n_samples and n_features, will be changed from 'nndsvd' to 'nndsvda' in 1.1 (renaming of 0.26).\n",
            "  warnings.warn(\n",
            "100%|██████████| 120/120 [00:00<00:00, 707.17it/s]\n",
            "/usr/local/lib/python3.8/dist-packages/sklearn/decomposition/_nmf.py:289: FutureWarning: The 'init' value, when 'init=None' and n_components is less than n_samples and n_features, will be changed from 'nndsvd' to 'nndsvda' in 1.1 (renaming of 0.26).\n",
            "  warnings.warn(\n",
            "100%|██████████| 120/120 [00:00<00:00, 714.46it/s]\n",
            "/usr/local/lib/python3.8/dist-packages/sklearn/decomposition/_nmf.py:289: FutureWarning: The 'init' value, when 'init=None' and n_components is less than n_samples and n_features, will be changed from 'nndsvd' to 'nndsvda' in 1.1 (renaming of 0.26).\n",
            "  warnings.warn(\n",
            "100%|██████████| 120/120 [00:00<00:00, 723.58it/s]\n",
            "/usr/local/lib/python3.8/dist-packages/sklearn/decomposition/_nmf.py:289: FutureWarning: The 'init' value, when 'init=None' and n_components is less than n_samples and n_features, will be changed from 'nndsvd' to 'nndsvda' in 1.1 (renaming of 0.26).\n",
            "  warnings.warn(\n",
            "100%|██████████| 120/120 [00:00<00:00, 672.80it/s]\n",
            "/usr/local/lib/python3.8/dist-packages/sklearn/decomposition/_nmf.py:289: FutureWarning: The 'init' value, when 'init=None' and n_components is less than n_samples and n_features, will be changed from 'nndsvd' to 'nndsvda' in 1.1 (renaming of 0.26).\n",
            "  warnings.warn(\n",
            "100%|██████████| 120/120 [00:00<00:00, 736.64it/s]\n",
            "/usr/local/lib/python3.8/dist-packages/sklearn/decomposition/_nmf.py:289: FutureWarning: The 'init' value, when 'init=None' and n_components is less than n_samples and n_features, will be changed from 'nndsvd' to 'nndsvda' in 1.1 (renaming of 0.26).\n",
            "  warnings.warn(\n",
            "100%|██████████| 120/120 [00:00<00:00, 718.36it/s]\n",
            "/usr/local/lib/python3.8/dist-packages/sklearn/decomposition/_nmf.py:289: FutureWarning: The 'init' value, when 'init=None' and n_components is less than n_samples and n_features, will be changed from 'nndsvd' to 'nndsvda' in 1.1 (renaming of 0.26).\n",
            "  warnings.warn(\n",
            "100%|██████████| 120/120 [00:00<00:00, 677.52it/s]\n",
            "/usr/local/lib/python3.8/dist-packages/sklearn/decomposition/_nmf.py:289: FutureWarning: The 'init' value, when 'init=None' and n_components is less than n_samples and n_features, will be changed from 'nndsvd' to 'nndsvda' in 1.1 (renaming of 0.26).\n",
            "  warnings.warn(\n",
            "100%|██████████| 120/120 [00:00<00:00, 612.48it/s]\n",
            "/usr/local/lib/python3.8/dist-packages/sklearn/decomposition/_nmf.py:289: FutureWarning: The 'init' value, when 'init=None' and n_components is less than n_samples and n_features, will be changed from 'nndsvd' to 'nndsvda' in 1.1 (renaming of 0.26).\n",
            "  warnings.warn(\n",
            "100%|██████████| 120/120 [00:00<00:00, 771.06it/s]\n",
            "/usr/local/lib/python3.8/dist-packages/sklearn/decomposition/_nmf.py:289: FutureWarning: The 'init' value, when 'init=None' and n_components is less than n_samples and n_features, will be changed from 'nndsvd' to 'nndsvda' in 1.1 (renaming of 0.26).\n",
            "  warnings.warn(\n",
            "100%|██████████| 120/120 [00:00<00:00, 739.44it/s]\n",
            "/usr/local/lib/python3.8/dist-packages/sklearn/decomposition/_nmf.py:289: FutureWarning: The 'init' value, when 'init=None' and n_components is less than n_samples and n_features, will be changed from 'nndsvd' to 'nndsvda' in 1.1 (renaming of 0.26).\n",
            "  warnings.warn(\n",
            "100%|██████████| 120/120 [00:00<00:00, 699.86it/s]\n",
            "/usr/local/lib/python3.8/dist-packages/sklearn/decomposition/_nmf.py:289: FutureWarning: The 'init' value, when 'init=None' and n_components is less than n_samples and n_features, will be changed from 'nndsvd' to 'nndsvda' in 1.1 (renaming of 0.26).\n",
            "  warnings.warn(\n",
            "100%|██████████| 120/120 [00:00<00:00, 675.25it/s]\n",
            "/usr/local/lib/python3.8/dist-packages/sklearn/decomposition/_nmf.py:289: FutureWarning: The 'init' value, when 'init=None' and n_components is less than n_samples and n_features, will be changed from 'nndsvd' to 'nndsvda' in 1.1 (renaming of 0.26).\n",
            "  warnings.warn(\n",
            "100%|██████████| 120/120 [00:00<00:00, 691.44it/s]\n",
            "/usr/local/lib/python3.8/dist-packages/sklearn/decomposition/_nmf.py:289: FutureWarning: The 'init' value, when 'init=None' and n_components is less than n_samples and n_features, will be changed from 'nndsvd' to 'nndsvda' in 1.1 (renaming of 0.26).\n",
            "  warnings.warn(\n",
            "100%|██████████| 120/120 [00:00<00:00, 727.25it/s]\n",
            "/usr/local/lib/python3.8/dist-packages/sklearn/decomposition/_nmf.py:289: FutureWarning: The 'init' value, when 'init=None' and n_components is less than n_samples and n_features, will be changed from 'nndsvd' to 'nndsvda' in 1.1 (renaming of 0.26).\n",
            "  warnings.warn(\n",
            "100%|██████████| 120/120 [00:00<00:00, 714.36it/s]\n",
            "/usr/local/lib/python3.8/dist-packages/sklearn/decomposition/_nmf.py:289: FutureWarning: The 'init' value, when 'init=None' and n_components is less than n_samples and n_features, will be changed from 'nndsvd' to 'nndsvda' in 1.1 (renaming of 0.26).\n",
            "  warnings.warn(\n",
            "100%|██████████| 120/120 [00:00<00:00, 703.25it/s]\n",
            "/usr/local/lib/python3.8/dist-packages/sklearn/decomposition/_nmf.py:289: FutureWarning: The 'init' value, when 'init=None' and n_components is less than n_samples and n_features, will be changed from 'nndsvd' to 'nndsvda' in 1.1 (renaming of 0.26).\n",
            "  warnings.warn(\n",
            "100%|██████████| 120/120 [00:00<00:00, 433.09it/s]\n",
            "/usr/local/lib/python3.8/dist-packages/sklearn/decomposition/_nmf.py:289: FutureWarning: The 'init' value, when 'init=None' and n_components is less than n_samples and n_features, will be changed from 'nndsvd' to 'nndsvda' in 1.1 (renaming of 0.26).\n",
            "  warnings.warn(\n",
            "100%|██████████| 120/120 [00:00<00:00, 454.24it/s]\n",
            "/usr/local/lib/python3.8/dist-packages/sklearn/decomposition/_nmf.py:289: FutureWarning: The 'init' value, when 'init=None' and n_components is less than n_samples and n_features, will be changed from 'nndsvd' to 'nndsvda' in 1.1 (renaming of 0.26).\n",
            "  warnings.warn(\n",
            "100%|██████████| 120/120 [00:00<00:00, 405.87it/s]\n",
            "/usr/local/lib/python3.8/dist-packages/sklearn/decomposition/_nmf.py:289: FutureWarning: The 'init' value, when 'init=None' and n_components is less than n_samples and n_features, will be changed from 'nndsvd' to 'nndsvda' in 1.1 (renaming of 0.26).\n",
            "  warnings.warn(\n",
            "100%|██████████| 120/120 [00:00<00:00, 404.58it/s]\n",
            "/usr/local/lib/python3.8/dist-packages/sklearn/decomposition/_nmf.py:289: FutureWarning: The 'init' value, when 'init=None' and n_components is less than n_samples and n_features, will be changed from 'nndsvd' to 'nndsvda' in 1.1 (renaming of 0.26).\n",
            "  warnings.warn(\n",
            "100%|██████████| 120/120 [00:00<00:00, 386.51it/s]\n",
            "/usr/local/lib/python3.8/dist-packages/sklearn/decomposition/_nmf.py:289: FutureWarning: The 'init' value, when 'init=None' and n_components is less than n_samples and n_features, will be changed from 'nndsvd' to 'nndsvda' in 1.1 (renaming of 0.26).\n",
            "  warnings.warn(\n",
            "100%|██████████| 120/120 [00:00<00:00, 427.40it/s]\n",
            "/usr/local/lib/python3.8/dist-packages/sklearn/decomposition/_nmf.py:289: FutureWarning: The 'init' value, when 'init=None' and n_components is less than n_samples and n_features, will be changed from 'nndsvd' to 'nndsvda' in 1.1 (renaming of 0.26).\n",
            "  warnings.warn(\n",
            "100%|██████████| 120/120 [00:00<00:00, 750.64it/s]\n",
            "/usr/local/lib/python3.8/dist-packages/sklearn/decomposition/_nmf.py:289: FutureWarning: The 'init' value, when 'init=None' and n_components is less than n_samples and n_features, will be changed from 'nndsvd' to 'nndsvda' in 1.1 (renaming of 0.26).\n",
            "  warnings.warn(\n",
            "100%|██████████| 120/120 [00:00<00:00, 730.72it/s]\n",
            "/usr/local/lib/python3.8/dist-packages/sklearn/decomposition/_nmf.py:289: FutureWarning: The 'init' value, when 'init=None' and n_components is less than n_samples and n_features, will be changed from 'nndsvd' to 'nndsvda' in 1.1 (renaming of 0.26).\n",
            "  warnings.warn(\n",
            "100%|██████████| 120/120 [00:00<00:00, 723.93it/s]\n",
            "/usr/local/lib/python3.8/dist-packages/sklearn/decomposition/_nmf.py:289: FutureWarning: The 'init' value, when 'init=None' and n_components is less than n_samples and n_features, will be changed from 'nndsvd' to 'nndsvda' in 1.1 (renaming of 0.26).\n",
            "  warnings.warn(\n",
            "100%|██████████| 120/120 [00:00<00:00, 693.48it/s]\n",
            "/usr/local/lib/python3.8/dist-packages/sklearn/decomposition/_nmf.py:289: FutureWarning: The 'init' value, when 'init=None' and n_components is less than n_samples and n_features, will be changed from 'nndsvd' to 'nndsvda' in 1.1 (renaming of 0.26).\n",
            "  warnings.warn(\n",
            "100%|██████████| 120/120 [00:00<00:00, 671.18it/s]\n",
            "/usr/local/lib/python3.8/dist-packages/sklearn/decomposition/_nmf.py:289: FutureWarning: The 'init' value, when 'init=None' and n_components is less than n_samples and n_features, will be changed from 'nndsvd' to 'nndsvda' in 1.1 (renaming of 0.26).\n",
            "  warnings.warn(\n",
            "100%|██████████| 120/120 [00:00<00:00, 745.24it/s]\n",
            "/usr/local/lib/python3.8/dist-packages/sklearn/decomposition/_nmf.py:289: FutureWarning: The 'init' value, when 'init=None' and n_components is less than n_samples and n_features, will be changed from 'nndsvd' to 'nndsvda' in 1.1 (renaming of 0.26).\n",
            "  warnings.warn(\n",
            "100%|██████████| 120/120 [00:00<00:00, 680.52it/s]\n",
            "/usr/local/lib/python3.8/dist-packages/sklearn/decomposition/_nmf.py:289: FutureWarning: The 'init' value, when 'init=None' and n_components is less than n_samples and n_features, will be changed from 'nndsvd' to 'nndsvda' in 1.1 (renaming of 0.26).\n",
            "  warnings.warn(\n",
            "100%|██████████| 120/120 [00:00<00:00, 721.74it/s]\n",
            "/usr/local/lib/python3.8/dist-packages/sklearn/decomposition/_nmf.py:289: FutureWarning: The 'init' value, when 'init=None' and n_components is less than n_samples and n_features, will be changed from 'nndsvd' to 'nndsvda' in 1.1 (renaming of 0.26).\n",
            "  warnings.warn(\n",
            "100%|██████████| 120/120 [00:00<00:00, 712.83it/s]\n",
            "/usr/local/lib/python3.8/dist-packages/sklearn/decomposition/_nmf.py:289: FutureWarning: The 'init' value, when 'init=None' and n_components is less than n_samples and n_features, will be changed from 'nndsvd' to 'nndsvda' in 1.1 (renaming of 0.26).\n",
            "  warnings.warn(\n",
            "100%|██████████| 120/120 [00:00<00:00, 746.14it/s]\n",
            "/usr/local/lib/python3.8/dist-packages/sklearn/decomposition/_nmf.py:289: FutureWarning: The 'init' value, when 'init=None' and n_components is less than n_samples and n_features, will be changed from 'nndsvd' to 'nndsvda' in 1.1 (renaming of 0.26).\n",
            "  warnings.warn(\n",
            "100%|██████████| 120/120 [00:00<00:00, 711.73it/s]\n",
            "/usr/local/lib/python3.8/dist-packages/sklearn/decomposition/_nmf.py:289: FutureWarning: The 'init' value, when 'init=None' and n_components is less than n_samples and n_features, will be changed from 'nndsvd' to 'nndsvda' in 1.1 (renaming of 0.26).\n",
            "  warnings.warn(\n",
            "100%|██████████| 120/120 [00:00<00:00, 753.73it/s]\n",
            "/usr/local/lib/python3.8/dist-packages/sklearn/decomposition/_nmf.py:289: FutureWarning: The 'init' value, when 'init=None' and n_components is less than n_samples and n_features, will be changed from 'nndsvd' to 'nndsvda' in 1.1 (renaming of 0.26).\n",
            "  warnings.warn(\n",
            "100%|██████████| 120/120 [00:00<00:00, 716.80it/s]\n",
            "/usr/local/lib/python3.8/dist-packages/sklearn/decomposition/_nmf.py:289: FutureWarning: The 'init' value, when 'init=None' and n_components is less than n_samples and n_features, will be changed from 'nndsvd' to 'nndsvda' in 1.1 (renaming of 0.26).\n",
            "  warnings.warn(\n",
            "100%|██████████| 120/120 [00:00<00:00, 738.45it/s]\n",
            "/usr/local/lib/python3.8/dist-packages/sklearn/decomposition/_nmf.py:289: FutureWarning: The 'init' value, when 'init=None' and n_components is less than n_samples and n_features, will be changed from 'nndsvd' to 'nndsvda' in 1.1 (renaming of 0.26).\n",
            "  warnings.warn(\n",
            "100%|██████████| 120/120 [00:00<00:00, 741.36it/s]\n",
            "/usr/local/lib/python3.8/dist-packages/sklearn/decomposition/_nmf.py:289: FutureWarning: The 'init' value, when 'init=None' and n_components is less than n_samples and n_features, will be changed from 'nndsvd' to 'nndsvda' in 1.1 (renaming of 0.26).\n",
            "  warnings.warn(\n",
            "100%|██████████| 120/120 [00:00<00:00, 723.23it/s]\n",
            "/usr/local/lib/python3.8/dist-packages/sklearn/decomposition/_nmf.py:289: FutureWarning: The 'init' value, when 'init=None' and n_components is less than n_samples and n_features, will be changed from 'nndsvd' to 'nndsvda' in 1.1 (renaming of 0.26).\n",
            "  warnings.warn(\n",
            "100%|██████████| 120/120 [00:00<00:00, 691.21it/s]\n",
            "/usr/local/lib/python3.8/dist-packages/sklearn/decomposition/_nmf.py:289: FutureWarning: The 'init' value, when 'init=None' and n_components is less than n_samples and n_features, will be changed from 'nndsvd' to 'nndsvda' in 1.1 (renaming of 0.26).\n",
            "  warnings.warn(\n",
            "100%|██████████| 120/120 [00:00<00:00, 701.91it/s]\n",
            "/usr/local/lib/python3.8/dist-packages/sklearn/decomposition/_nmf.py:289: FutureWarning: The 'init' value, when 'init=None' and n_components is less than n_samples and n_features, will be changed from 'nndsvd' to 'nndsvda' in 1.1 (renaming of 0.26).\n",
            "  warnings.warn(\n",
            "100%|██████████| 120/120 [00:00<00:00, 725.65it/s]\n",
            "/usr/local/lib/python3.8/dist-packages/sklearn/decomposition/_nmf.py:289: FutureWarning: The 'init' value, when 'init=None' and n_components is less than n_samples and n_features, will be changed from 'nndsvd' to 'nndsvda' in 1.1 (renaming of 0.26).\n",
            "  warnings.warn(\n",
            "100%|██████████| 120/120 [00:00<00:00, 633.42it/s]\n",
            "/usr/local/lib/python3.8/dist-packages/sklearn/decomposition/_nmf.py:289: FutureWarning: The 'init' value, when 'init=None' and n_components is less than n_samples and n_features, will be changed from 'nndsvd' to 'nndsvda' in 1.1 (renaming of 0.26).\n",
            "  warnings.warn(\n",
            "100%|██████████| 120/120 [00:00<00:00, 716.06it/s]\n",
            "/usr/local/lib/python3.8/dist-packages/sklearn/decomposition/_nmf.py:289: FutureWarning: The 'init' value, when 'init=None' and n_components is less than n_samples and n_features, will be changed from 'nndsvd' to 'nndsvda' in 1.1 (renaming of 0.26).\n",
            "  warnings.warn(\n",
            "100%|██████████| 120/120 [00:00<00:00, 740.65it/s]\n",
            "/usr/local/lib/python3.8/dist-packages/sklearn/decomposition/_nmf.py:289: FutureWarning: The 'init' value, when 'init=None' and n_components is less than n_samples and n_features, will be changed from 'nndsvd' to 'nndsvda' in 1.1 (renaming of 0.26).\n",
            "  warnings.warn(\n",
            "100%|██████████| 120/120 [00:00<00:00, 678.41it/s]\n",
            "/usr/local/lib/python3.8/dist-packages/sklearn/decomposition/_nmf.py:289: FutureWarning: The 'init' value, when 'init=None' and n_components is less than n_samples and n_features, will be changed from 'nndsvd' to 'nndsvda' in 1.1 (renaming of 0.26).\n",
            "  warnings.warn(\n",
            "100%|██████████| 120/120 [00:00<00:00, 668.78it/s]\n",
            "/usr/local/lib/python3.8/dist-packages/sklearn/decomposition/_nmf.py:289: FutureWarning: The 'init' value, when 'init=None' and n_components is less than n_samples and n_features, will be changed from 'nndsvd' to 'nndsvda' in 1.1 (renaming of 0.26).\n",
            "  warnings.warn(\n",
            "100%|██████████| 120/120 [00:00<00:00, 723.88it/s]\n",
            "/usr/local/lib/python3.8/dist-packages/sklearn/decomposition/_nmf.py:289: FutureWarning: The 'init' value, when 'init=None' and n_components is less than n_samples and n_features, will be changed from 'nndsvd' to 'nndsvda' in 1.1 (renaming of 0.26).\n",
            "  warnings.warn(\n",
            "100%|██████████| 120/120 [00:00<00:00, 672.56it/s]\n",
            "/usr/local/lib/python3.8/dist-packages/sklearn/decomposition/_nmf.py:289: FutureWarning: The 'init' value, when 'init=None' and n_components is less than n_samples and n_features, will be changed from 'nndsvd' to 'nndsvda' in 1.1 (renaming of 0.26).\n",
            "  warnings.warn(\n",
            "100%|██████████| 120/120 [00:00<00:00, 710.60it/s]\n",
            "/usr/local/lib/python3.8/dist-packages/sklearn/decomposition/_nmf.py:289: FutureWarning: The 'init' value, when 'init=None' and n_components is less than n_samples and n_features, will be changed from 'nndsvd' to 'nndsvda' in 1.1 (renaming of 0.26).\n",
            "  warnings.warn(\n",
            "100%|██████████| 120/120 [00:00<00:00, 713.85it/s]\n",
            "/usr/local/lib/python3.8/dist-packages/sklearn/decomposition/_nmf.py:289: FutureWarning: The 'init' value, when 'init=None' and n_components is less than n_samples and n_features, will be changed from 'nndsvd' to 'nndsvda' in 1.1 (renaming of 0.26).\n",
            "  warnings.warn(\n",
            "100%|██████████| 120/120 [00:00<00:00, 662.38it/s]\n",
            "/usr/local/lib/python3.8/dist-packages/sklearn/decomposition/_nmf.py:289: FutureWarning: The 'init' value, when 'init=None' and n_components is less than n_samples and n_features, will be changed from 'nndsvd' to 'nndsvda' in 1.1 (renaming of 0.26).\n",
            "  warnings.warn(\n",
            "100%|██████████| 120/120 [00:00<00:00, 695.95it/s]\n",
            "/usr/local/lib/python3.8/dist-packages/sklearn/decomposition/_nmf.py:289: FutureWarning: The 'init' value, when 'init=None' and n_components is less than n_samples and n_features, will be changed from 'nndsvd' to 'nndsvda' in 1.1 (renaming of 0.26).\n",
            "  warnings.warn(\n",
            "100%|██████████| 120/120 [00:00<00:00, 686.08it/s]\n",
            "/usr/local/lib/python3.8/dist-packages/sklearn/decomposition/_nmf.py:289: FutureWarning: The 'init' value, when 'init=None' and n_components is less than n_samples and n_features, will be changed from 'nndsvd' to 'nndsvda' in 1.1 (renaming of 0.26).\n",
            "  warnings.warn(\n",
            "100%|██████████| 120/120 [00:00<00:00, 708.71it/s]\n",
            "/usr/local/lib/python3.8/dist-packages/sklearn/decomposition/_nmf.py:289: FutureWarning: The 'init' value, when 'init=None' and n_components is less than n_samples and n_features, will be changed from 'nndsvd' to 'nndsvda' in 1.1 (renaming of 0.26).\n",
            "  warnings.warn(\n",
            "100%|██████████| 120/120 [00:00<00:00, 638.15it/s]\n",
            "/usr/local/lib/python3.8/dist-packages/sklearn/decomposition/_nmf.py:289: FutureWarning: The 'init' value, when 'init=None' and n_components is less than n_samples and n_features, will be changed from 'nndsvd' to 'nndsvda' in 1.1 (renaming of 0.26).\n",
            "  warnings.warn(\n",
            "100%|██████████| 120/120 [00:00<00:00, 677.78it/s]\n",
            "/usr/local/lib/python3.8/dist-packages/sklearn/decomposition/_nmf.py:289: FutureWarning: The 'init' value, when 'init=None' and n_components is less than n_samples and n_features, will be changed from 'nndsvd' to 'nndsvda' in 1.1 (renaming of 0.26).\n",
            "  warnings.warn(\n",
            "100%|██████████| 120/120 [00:00<00:00, 668.38it/s]\n",
            "/usr/local/lib/python3.8/dist-packages/sklearn/decomposition/_nmf.py:289: FutureWarning: The 'init' value, when 'init=None' and n_components is less than n_samples and n_features, will be changed from 'nndsvd' to 'nndsvda' in 1.1 (renaming of 0.26).\n",
            "  warnings.warn(\n",
            "100%|██████████| 120/120 [00:00<00:00, 642.15it/s]\n",
            "/usr/local/lib/python3.8/dist-packages/sklearn/decomposition/_nmf.py:289: FutureWarning: The 'init' value, when 'init=None' and n_components is less than n_samples and n_features, will be changed from 'nndsvd' to 'nndsvda' in 1.1 (renaming of 0.26).\n",
            "  warnings.warn(\n",
            "100%|██████████| 120/120 [00:00<00:00, 729.33it/s]\n",
            "/usr/local/lib/python3.8/dist-packages/sklearn/decomposition/_nmf.py:289: FutureWarning: The 'init' value, when 'init=None' and n_components is less than n_samples and n_features, will be changed from 'nndsvd' to 'nndsvda' in 1.1 (renaming of 0.26).\n",
            "  warnings.warn(\n",
            "100%|██████████| 120/120 [00:00<00:00, 700.55it/s]\n",
            "/usr/local/lib/python3.8/dist-packages/sklearn/decomposition/_nmf.py:289: FutureWarning: The 'init' value, when 'init=None' and n_components is less than n_samples and n_features, will be changed from 'nndsvd' to 'nndsvda' in 1.1 (renaming of 0.26).\n",
            "  warnings.warn(\n",
            "100%|██████████| 120/120 [00:00<00:00, 646.15it/s]\n",
            "/usr/local/lib/python3.8/dist-packages/sklearn/decomposition/_nmf.py:289: FutureWarning: The 'init' value, when 'init=None' and n_components is less than n_samples and n_features, will be changed from 'nndsvd' to 'nndsvda' in 1.1 (renaming of 0.26).\n",
            "  warnings.warn(\n",
            "100%|██████████| 120/120 [00:00<00:00, 633.13it/s]\n",
            "/usr/local/lib/python3.8/dist-packages/sklearn/decomposition/_nmf.py:289: FutureWarning: The 'init' value, when 'init=None' and n_components is less than n_samples and n_features, will be changed from 'nndsvd' to 'nndsvda' in 1.1 (renaming of 0.26).\n",
            "  warnings.warn(\n",
            "100%|██████████| 120/120 [00:00<00:00, 725.41it/s]\n",
            "/usr/local/lib/python3.8/dist-packages/sklearn/decomposition/_nmf.py:289: FutureWarning: The 'init' value, when 'init=None' and n_components is less than n_samples and n_features, will be changed from 'nndsvd' to 'nndsvda' in 1.1 (renaming of 0.26).\n",
            "  warnings.warn(\n",
            "100%|██████████| 120/120 [00:00<00:00, 748.74it/s]\n",
            "/usr/local/lib/python3.8/dist-packages/sklearn/decomposition/_nmf.py:289: FutureWarning: The 'init' value, when 'init=None' and n_components is less than n_samples and n_features, will be changed from 'nndsvd' to 'nndsvda' in 1.1 (renaming of 0.26).\n",
            "  warnings.warn(\n",
            "100%|██████████| 120/120 [00:00<00:00, 687.74it/s]\n",
            "/usr/local/lib/python3.8/dist-packages/sklearn/decomposition/_nmf.py:289: FutureWarning: The 'init' value, when 'init=None' and n_components is less than n_samples and n_features, will be changed from 'nndsvd' to 'nndsvda' in 1.1 (renaming of 0.26).\n",
            "  warnings.warn(\n",
            "100%|██████████| 120/120 [00:00<00:00, 742.14it/s]\n",
            "/usr/local/lib/python3.8/dist-packages/sklearn/decomposition/_nmf.py:289: FutureWarning: The 'init' value, when 'init=None' and n_components is less than n_samples and n_features, will be changed from 'nndsvd' to 'nndsvda' in 1.1 (renaming of 0.26).\n",
            "  warnings.warn(\n",
            "100%|██████████| 120/120 [00:00<00:00, 691.38it/s]\n",
            "/usr/local/lib/python3.8/dist-packages/sklearn/decomposition/_nmf.py:289: FutureWarning: The 'init' value, when 'init=None' and n_components is less than n_samples and n_features, will be changed from 'nndsvd' to 'nndsvda' in 1.1 (renaming of 0.26).\n",
            "  warnings.warn(\n",
            "100%|██████████| 120/120 [00:00<00:00, 684.65it/s]\n",
            "/usr/local/lib/python3.8/dist-packages/sklearn/decomposition/_nmf.py:289: FutureWarning: The 'init' value, when 'init=None' and n_components is less than n_samples and n_features, will be changed from 'nndsvd' to 'nndsvda' in 1.1 (renaming of 0.26).\n",
            "  warnings.warn(\n",
            "100%|██████████| 120/120 [00:00<00:00, 704.02it/s]\n",
            "/usr/local/lib/python3.8/dist-packages/sklearn/decomposition/_nmf.py:289: FutureWarning: The 'init' value, when 'init=None' and n_components is less than n_samples and n_features, will be changed from 'nndsvd' to 'nndsvda' in 1.1 (renaming of 0.26).\n",
            "  warnings.warn(\n",
            "100%|██████████| 120/120 [00:00<00:00, 707.67it/s]\n",
            "/usr/local/lib/python3.8/dist-packages/sklearn/decomposition/_nmf.py:289: FutureWarning: The 'init' value, when 'init=None' and n_components is less than n_samples and n_features, will be changed from 'nndsvd' to 'nndsvda' in 1.1 (renaming of 0.26).\n",
            "  warnings.warn(\n",
            "100%|██████████| 120/120 [00:00<00:00, 715.66it/s]\n",
            "/usr/local/lib/python3.8/dist-packages/sklearn/decomposition/_nmf.py:289: FutureWarning: The 'init' value, when 'init=None' and n_components is less than n_samples and n_features, will be changed from 'nndsvd' to 'nndsvda' in 1.1 (renaming of 0.26).\n",
            "  warnings.warn(\n",
            "100%|██████████| 120/120 [00:00<00:00, 711.62it/s]\n",
            "/usr/local/lib/python3.8/dist-packages/sklearn/decomposition/_nmf.py:289: FutureWarning: The 'init' value, when 'init=None' and n_components is less than n_samples and n_features, will be changed from 'nndsvd' to 'nndsvda' in 1.1 (renaming of 0.26).\n",
            "  warnings.warn(\n",
            "100%|██████████| 120/120 [00:00<00:00, 709.07it/s]\n",
            "/usr/local/lib/python3.8/dist-packages/sklearn/decomposition/_nmf.py:289: FutureWarning: The 'init' value, when 'init=None' and n_components is less than n_samples and n_features, will be changed from 'nndsvd' to 'nndsvda' in 1.1 (renaming of 0.26).\n",
            "  warnings.warn(\n",
            "100%|██████████| 120/120 [00:00<00:00, 728.40it/s]\n",
            "/usr/local/lib/python3.8/dist-packages/sklearn/decomposition/_nmf.py:289: FutureWarning: The 'init' value, when 'init=None' and n_components is less than n_samples and n_features, will be changed from 'nndsvd' to 'nndsvda' in 1.1 (renaming of 0.26).\n",
            "  warnings.warn(\n",
            "100%|██████████| 120/120 [00:00<00:00, 723.27it/s]\n",
            "/usr/local/lib/python3.8/dist-packages/sklearn/decomposition/_nmf.py:289: FutureWarning: The 'init' value, when 'init=None' and n_components is less than n_samples and n_features, will be changed from 'nndsvd' to 'nndsvda' in 1.1 (renaming of 0.26).\n",
            "  warnings.warn(\n",
            "100%|██████████| 120/120 [00:00<00:00, 725.36it/s]\n",
            "/usr/local/lib/python3.8/dist-packages/sklearn/decomposition/_nmf.py:289: FutureWarning: The 'init' value, when 'init=None' and n_components is less than n_samples and n_features, will be changed from 'nndsvd' to 'nndsvda' in 1.1 (renaming of 0.26).\n",
            "  warnings.warn(\n",
            "100%|██████████| 120/120 [00:00<00:00, 753.02it/s]\n",
            "/usr/local/lib/python3.8/dist-packages/sklearn/decomposition/_nmf.py:289: FutureWarning: The 'init' value, when 'init=None' and n_components is less than n_samples and n_features, will be changed from 'nndsvd' to 'nndsvda' in 1.1 (renaming of 0.26).\n",
            "  warnings.warn(\n",
            "100%|██████████| 120/120 [00:00<00:00, 728.96it/s]\n",
            "/usr/local/lib/python3.8/dist-packages/sklearn/decomposition/_nmf.py:289: FutureWarning: The 'init' value, when 'init=None' and n_components is less than n_samples and n_features, will be changed from 'nndsvd' to 'nndsvda' in 1.1 (renaming of 0.26).\n",
            "  warnings.warn(\n",
            "100%|██████████| 120/120 [00:00<00:00, 732.60it/s]\n",
            "/usr/local/lib/python3.8/dist-packages/sklearn/decomposition/_nmf.py:289: FutureWarning: The 'init' value, when 'init=None' and n_components is less than n_samples and n_features, will be changed from 'nndsvd' to 'nndsvda' in 1.1 (renaming of 0.26).\n",
            "  warnings.warn(\n",
            "100%|██████████| 120/120 [00:00<00:00, 675.73it/s]\n",
            "/usr/local/lib/python3.8/dist-packages/sklearn/decomposition/_nmf.py:289: FutureWarning: The 'init' value, when 'init=None' and n_components is less than n_samples and n_features, will be changed from 'nndsvd' to 'nndsvda' in 1.1 (renaming of 0.26).\n",
            "  warnings.warn(\n",
            "100%|██████████| 120/120 [00:00<00:00, 708.05it/s]\n",
            "/usr/local/lib/python3.8/dist-packages/sklearn/decomposition/_nmf.py:289: FutureWarning: The 'init' value, when 'init=None' and n_components is less than n_samples and n_features, will be changed from 'nndsvd' to 'nndsvda' in 1.1 (renaming of 0.26).\n",
            "  warnings.warn(\n",
            "100%|██████████| 120/120 [00:00<00:00, 724.73it/s]\n",
            "/usr/local/lib/python3.8/dist-packages/sklearn/decomposition/_nmf.py:289: FutureWarning: The 'init' value, when 'init=None' and n_components is less than n_samples and n_features, will be changed from 'nndsvd' to 'nndsvda' in 1.1 (renaming of 0.26).\n",
            "  warnings.warn(\n",
            "100%|██████████| 120/120 [00:00<00:00, 664.12it/s]\n",
            "/usr/local/lib/python3.8/dist-packages/sklearn/decomposition/_nmf.py:289: FutureWarning: The 'init' value, when 'init=None' and n_components is less than n_samples and n_features, will be changed from 'nndsvd' to 'nndsvda' in 1.1 (renaming of 0.26).\n",
            "  warnings.warn(\n",
            "100%|██████████| 120/120 [00:00<00:00, 662.65it/s]\n",
            "/usr/local/lib/python3.8/dist-packages/sklearn/decomposition/_nmf.py:289: FutureWarning: The 'init' value, when 'init=None' and n_components is less than n_samples and n_features, will be changed from 'nndsvd' to 'nndsvda' in 1.1 (renaming of 0.26).\n",
            "  warnings.warn(\n",
            "100%|██████████| 120/120 [00:00<00:00, 712.71it/s]\n",
            "/usr/local/lib/python3.8/dist-packages/sklearn/decomposition/_nmf.py:289: FutureWarning: The 'init' value, when 'init=None' and n_components is less than n_samples and n_features, will be changed from 'nndsvd' to 'nndsvda' in 1.1 (renaming of 0.26).\n",
            "  warnings.warn(\n",
            "100%|██████████| 120/120 [00:00<00:00, 710.42it/s]\n",
            "/usr/local/lib/python3.8/dist-packages/sklearn/decomposition/_nmf.py:289: FutureWarning: The 'init' value, when 'init=None' and n_components is less than n_samples and n_features, will be changed from 'nndsvd' to 'nndsvda' in 1.1 (renaming of 0.26).\n",
            "  warnings.warn(\n",
            "100%|██████████| 120/120 [00:00<00:00, 690.11it/s]\n",
            "/usr/local/lib/python3.8/dist-packages/sklearn/decomposition/_nmf.py:289: FutureWarning: The 'init' value, when 'init=None' and n_components is less than n_samples and n_features, will be changed from 'nndsvd' to 'nndsvda' in 1.1 (renaming of 0.26).\n",
            "  warnings.warn(\n",
            "100%|██████████| 120/120 [00:00<00:00, 676.42it/s]\n",
            "/usr/local/lib/python3.8/dist-packages/sklearn/decomposition/_nmf.py:289: FutureWarning: The 'init' value, when 'init=None' and n_components is less than n_samples and n_features, will be changed from 'nndsvd' to 'nndsvda' in 1.1 (renaming of 0.26).\n",
            "  warnings.warn(\n",
            "100%|██████████| 120/120 [00:00<00:00, 667.97it/s]\n",
            "/usr/local/lib/python3.8/dist-packages/sklearn/decomposition/_nmf.py:289: FutureWarning: The 'init' value, when 'init=None' and n_components is less than n_samples and n_features, will be changed from 'nndsvd' to 'nndsvda' in 1.1 (renaming of 0.26).\n",
            "  warnings.warn(\n",
            "100%|██████████| 120/120 [00:00<00:00, 697.43it/s]\n",
            "/usr/local/lib/python3.8/dist-packages/sklearn/decomposition/_nmf.py:289: FutureWarning: The 'init' value, when 'init=None' and n_components is less than n_samples and n_features, will be changed from 'nndsvd' to 'nndsvda' in 1.1 (renaming of 0.26).\n",
            "  warnings.warn(\n",
            "100%|██████████| 120/120 [00:00<00:00, 711.39it/s]"
          ]
        },
        {
          "output_type": "stream",
          "name": "stdout",
          "text": [
            "{'permutation': (2, 4, 1, 0, 3), 'norm': 'l1', 'max_df': 0.15000000000000002, 'min_df': 1}\n",
            "0.9386792452830188\n"
          ]
        },
        {
          "output_type": "stream",
          "name": "stderr",
          "text": [
            "\n"
          ]
        }
      ]
    },
    {
      "cell_type": "markdown",
      "source": [
        "# Evaluation"
      ],
      "metadata": {
        "id": "BCO6CWe2bE-7"
      }
    },
    {
      "cell_type": "code",
      "source": [
        "# evaluate the results using metrics: confusion matrix, f1 score, accuracy\n",
        "def evaluate_results(y_true, y_pred):\n",
        "    conf_matrix = confusion_matrix(y_true, y_pred)\n",
        "    f1 = f1_score(y_true, y_pred, average='weighted')\n",
        "    acc = accuracy_score(y_true, y_pred)\n",
        "    print(\"Accuracy:\", acc)\n",
        "    print(\"F1 score:\", f1)\n",
        "    print(\"Confusion Matrix:\")\n",
        "    print(conf_matrix)"
      ],
      "metadata": {
        "id": "jlOmFf5J5Ia0"
      },
      "execution_count": null,
      "outputs": []
    },
    {
      "cell_type": "markdown",
      "source": [
        "### Performance on Train dataset"
      ],
      "metadata": {
        "id": "gfmu2ootJ7mX"
      }
    },
    {
      "cell_type": "code",
      "source": [
        "label, acc, pred, train, _, _ = predict_nmf(train, best_parameters, best_tfidvec, best_nmf)\n",
        "perm_dict = get_permute_dict(train, best_parameters['permutation'])\n",
        "train['best'] = train['Category'].map(perm_dict)\n",
        "evaluate_results(train['best'], pred)"
      ],
      "metadata": {
        "colab": {
          "base_uri": "https://localhost:8080/"
        },
        "id": "V7Q867QN6VkC",
        "outputId": "99e58ffb-af26-4fca-eeff-a5498bb5b547"
      },
      "execution_count": null,
      "outputs": [
        {
          "output_type": "stream",
          "name": "stdout",
          "text": [
            "Accuracy: 0.9386792452830188\n",
            "F1 score: 0.9386010907627307\n",
            "Confusion Matrix:\n",
            "[[341   0   0   3   0]\n",
            " [  5 246  17   1   3]\n",
            " [  1   5 319   2   9]\n",
            " [  0   2   7 248  15]\n",
            " [  2   4   4  11 239]]\n"
          ]
        }
      ]
    },
    {
      "cell_type": "markdown",
      "source": [
        "### Submit results to Kaggle"
      ],
      "metadata": {
        "id": "UVQN_1cq3zOP"
      }
    },
    {
      "cell_type": "code",
      "source": [
        "test = pd.read_csv(\"/content/drive/MyDrive/Kaggle/learn-ai-bbc/BBC News Test.csv\")"
      ],
      "metadata": {
        "id": "-Uzn3NSP4-dq"
      },
      "execution_count": null,
      "outputs": []
    },
    {
      "cell_type": "code",
      "source": [
        "def preprocessing(df, target_col):\n",
        "    df['no_punct'] = df[target_col].progress_apply(lambda x: re.sub(r'[^\\w\\s]+', '', x))\n",
        "    df['no_punct_num'] = df['no_punct'].progress_apply(lambda x: re.sub(r'[0-9]+', '', x))\n",
        "    stop_words = stopwords.words('english')\n",
        "    df['no_stopwords'] = df['no_punct_num'].progress_apply(lambda x: ' '.join([word for word in x.split() if word not in (stop_words)]))\n",
        "    df['clean_text'] = df['no_stopwords'].progress_apply(lambda x: re.sub(' +', ' ', x))\n",
        "    df['tokenized'] = df['clean_text'].progress_apply(lambda x: word_tokenize(x))\n",
        "    word_lemmatizer = WordNetLemmatizer()\n",
        "    df['lemmatized'] = df['tokenized'].progress_apply(lambda x: [word_lemmatizer.lemmatize(word.lower()) for word in x])\n",
        "    df['lem_sent'] = df['lemmatized'].progress_apply(lambda x: ' '.join(x))\n",
        "    df['n_words'] = df['lemmatized'].progress_apply(lambda x: len(x))"
      ],
      "metadata": {
        "id": "g2kY2q8N8SZQ"
      },
      "execution_count": null,
      "outputs": []
    },
    {
      "cell_type": "code",
      "source": [
        "# preprocess the test data using same way that train data does\n",
        "preprocessing(test, 'Text')"
      ],
      "metadata": {
        "colab": {
          "base_uri": "https://localhost:8080/"
        },
        "id": "iBccOCii3yxC",
        "outputId": "8b399daf-1daa-4df9-ffa9-01cb183010d5"
      },
      "execution_count": null,
      "outputs": [
        {
          "output_type": "stream",
          "name": "stderr",
          "text": [
            "100%|██████████| 735/735 [00:00<00:00, 10499.22it/s]\n",
            "100%|██████████| 735/735 [00:00<00:00, 14349.95it/s]\n",
            "100%|██████████| 735/735 [00:00<00:00, 1088.53it/s]\n",
            "100%|██████████| 735/735 [00:00<00:00, 11837.76it/s]\n",
            "100%|██████████| 735/735 [00:00<00:00, 1005.13it/s]\n",
            "100%|██████████| 735/735 [00:00<00:00, 925.66it/s]\n",
            "100%|██████████| 735/735 [00:00<00:00, 72063.71it/s]\n",
            "100%|██████████| 735/735 [00:00<00:00, 308713.54it/s]\n"
          ]
        }
      ]
    },
    {
      "cell_type": "code",
      "source": [
        "# Predict category using the best parameters, the best tfidfvectorizer and best NMF model\n",
        "test_label, test_acc, test_pred, test, _, _ = predict_nmf(test, best_parameters, best_tfidvec, best_nmf)"
      ],
      "metadata": {
        "id": "t-GUaDz59wxH"
      },
      "execution_count": null,
      "outputs": []
    },
    {
      "cell_type": "code",
      "source": [
        "test.head()"
      ],
      "metadata": {
        "colab": {
          "base_uri": "https://localhost:8080/",
          "height": 372
        },
        "id": "Mh9TyZiRGNcz",
        "outputId": "d325d7d5-665f-44e9-9b09-b6463e2e3ce7"
      },
      "execution_count": null,
      "outputs": [
        {
          "output_type": "execute_result",
          "data": {
            "text/plain": [
              "   ArticleId                                               Text  \\\n",
              "0       1018  qpr keeper day heads for preston queens park r...   \n",
              "1       1319  software watching while you work software that...   \n",
              "2       1138  d arcy injury adds to ireland woe gordon d arc...   \n",
              "3        459  india s reliance family feud heats up the ongo...   \n",
              "4       1020  boro suffer morrison injury blow middlesbrough...   \n",
              "\n",
              "                                            no_punct  \\\n",
              "0  qpr keeper day heads for preston queens park r...   \n",
              "1  software watching while you work software that...   \n",
              "2  d arcy injury adds to ireland woe gordon d arc...   \n",
              "3  india s reliance family feud heats up the ongo...   \n",
              "4  boro suffer morrison injury blow middlesbrough...   \n",
              "\n",
              "                                        no_punct_num  \\\n",
              "0  qpr keeper day heads for preston queens park r...   \n",
              "1  software watching while you work software that...   \n",
              "2  d arcy injury adds to ireland woe gordon d arc...   \n",
              "3  india s reliance family feud heats up the ongo...   \n",
              "4  boro suffer morrison injury blow middlesbrough...   \n",
              "\n",
              "                                        no_stopwords  \\\n",
              "0  qpr keeper day heads preston queens park range...   \n",
              "1  software watching work software monitor every ...   \n",
              "2  arcy injury adds ireland woe gordon arcy ruled...   \n",
              "3  india reliance family feud heats ongoing publi...   \n",
              "4  boro suffer morrison injury blow middlesbrough...   \n",
              "\n",
              "                                          clean_text  \\\n",
              "0  qpr keeper day heads preston queens park range...   \n",
              "1  software watching work software monitor every ...   \n",
              "2  arcy injury adds ireland woe gordon arcy ruled...   \n",
              "3  india reliance family feud heats ongoing publi...   \n",
              "4  boro suffer morrison injury blow middlesbrough...   \n",
              "\n",
              "                                           tokenized  \\\n",
              "0  [qpr, keeper, day, heads, preston, queens, par...   \n",
              "1  [software, watching, work, software, monitor, ...   \n",
              "2  [arcy, injury, adds, ireland, woe, gordon, arc...   \n",
              "3  [india, reliance, family, feud, heats, ongoing...   \n",
              "4  [boro, suffer, morrison, injury, blow, middles...   \n",
              "\n",
              "                                          lemmatized  \\\n",
              "0  [qpr, keeper, day, head, preston, queen, park,...   \n",
              "1  [software, watching, work, software, monitor, ...   \n",
              "2  [arcy, injury, add, ireland, woe, gordon, arcy...   \n",
              "3  [india, reliance, family, feud, heat, ongoing,...   \n",
              "4  [boro, suffer, morrison, injury, blow, middles...   \n",
              "\n",
              "                                            lem_sent  n_words      pred  \n",
              "0  qpr keeper day head preston queen park ranger ...       86     sport  \n",
              "1  software watching work software monitor every ...      232      tech  \n",
              "2  arcy injury add ireland woe gordon arcy ruled ...      135     sport  \n",
              "3  india reliance family feud heat ongoing public...      174  business  \n",
              "4  boro suffer morrison injury blow middlesbrough...       71     sport  "
            ],
            "text/html": [
              "\n",
              "  <div id=\"df-d4535dab-2433-443b-a5e4-7a742e0ae852\">\n",
              "    <div class=\"colab-df-container\">\n",
              "      <div>\n",
              "<style scoped>\n",
              "    .dataframe tbody tr th:only-of-type {\n",
              "        vertical-align: middle;\n",
              "    }\n",
              "\n",
              "    .dataframe tbody tr th {\n",
              "        vertical-align: top;\n",
              "    }\n",
              "\n",
              "    .dataframe thead th {\n",
              "        text-align: right;\n",
              "    }\n",
              "</style>\n",
              "<table border=\"1\" class=\"dataframe\">\n",
              "  <thead>\n",
              "    <tr style=\"text-align: right;\">\n",
              "      <th></th>\n",
              "      <th>ArticleId</th>\n",
              "      <th>Text</th>\n",
              "      <th>no_punct</th>\n",
              "      <th>no_punct_num</th>\n",
              "      <th>no_stopwords</th>\n",
              "      <th>clean_text</th>\n",
              "      <th>tokenized</th>\n",
              "      <th>lemmatized</th>\n",
              "      <th>lem_sent</th>\n",
              "      <th>n_words</th>\n",
              "      <th>pred</th>\n",
              "    </tr>\n",
              "  </thead>\n",
              "  <tbody>\n",
              "    <tr>\n",
              "      <th>0</th>\n",
              "      <td>1018</td>\n",
              "      <td>qpr keeper day heads for preston queens park r...</td>\n",
              "      <td>qpr keeper day heads for preston queens park r...</td>\n",
              "      <td>qpr keeper day heads for preston queens park r...</td>\n",
              "      <td>qpr keeper day heads preston queens park range...</td>\n",
              "      <td>qpr keeper day heads preston queens park range...</td>\n",
              "      <td>[qpr, keeper, day, heads, preston, queens, par...</td>\n",
              "      <td>[qpr, keeper, day, head, preston, queen, park,...</td>\n",
              "      <td>qpr keeper day head preston queen park ranger ...</td>\n",
              "      <td>86</td>\n",
              "      <td>sport</td>\n",
              "    </tr>\n",
              "    <tr>\n",
              "      <th>1</th>\n",
              "      <td>1319</td>\n",
              "      <td>software watching while you work software that...</td>\n",
              "      <td>software watching while you work software that...</td>\n",
              "      <td>software watching while you work software that...</td>\n",
              "      <td>software watching work software monitor every ...</td>\n",
              "      <td>software watching work software monitor every ...</td>\n",
              "      <td>[software, watching, work, software, monitor, ...</td>\n",
              "      <td>[software, watching, work, software, monitor, ...</td>\n",
              "      <td>software watching work software monitor every ...</td>\n",
              "      <td>232</td>\n",
              "      <td>tech</td>\n",
              "    </tr>\n",
              "    <tr>\n",
              "      <th>2</th>\n",
              "      <td>1138</td>\n",
              "      <td>d arcy injury adds to ireland woe gordon d arc...</td>\n",
              "      <td>d arcy injury adds to ireland woe gordon d arc...</td>\n",
              "      <td>d arcy injury adds to ireland woe gordon d arc...</td>\n",
              "      <td>arcy injury adds ireland woe gordon arcy ruled...</td>\n",
              "      <td>arcy injury adds ireland woe gordon arcy ruled...</td>\n",
              "      <td>[arcy, injury, adds, ireland, woe, gordon, arc...</td>\n",
              "      <td>[arcy, injury, add, ireland, woe, gordon, arcy...</td>\n",
              "      <td>arcy injury add ireland woe gordon arcy ruled ...</td>\n",
              "      <td>135</td>\n",
              "      <td>sport</td>\n",
              "    </tr>\n",
              "    <tr>\n",
              "      <th>3</th>\n",
              "      <td>459</td>\n",
              "      <td>india s reliance family feud heats up the ongo...</td>\n",
              "      <td>india s reliance family feud heats up the ongo...</td>\n",
              "      <td>india s reliance family feud heats up the ongo...</td>\n",
              "      <td>india reliance family feud heats ongoing publi...</td>\n",
              "      <td>india reliance family feud heats ongoing publi...</td>\n",
              "      <td>[india, reliance, family, feud, heats, ongoing...</td>\n",
              "      <td>[india, reliance, family, feud, heat, ongoing,...</td>\n",
              "      <td>india reliance family feud heat ongoing public...</td>\n",
              "      <td>174</td>\n",
              "      <td>business</td>\n",
              "    </tr>\n",
              "    <tr>\n",
              "      <th>4</th>\n",
              "      <td>1020</td>\n",
              "      <td>boro suffer morrison injury blow middlesbrough...</td>\n",
              "      <td>boro suffer morrison injury blow middlesbrough...</td>\n",
              "      <td>boro suffer morrison injury blow middlesbrough...</td>\n",
              "      <td>boro suffer morrison injury blow middlesbrough...</td>\n",
              "      <td>boro suffer morrison injury blow middlesbrough...</td>\n",
              "      <td>[boro, suffer, morrison, injury, blow, middles...</td>\n",
              "      <td>[boro, suffer, morrison, injury, blow, middles...</td>\n",
              "      <td>boro suffer morrison injury blow middlesbrough...</td>\n",
              "      <td>71</td>\n",
              "      <td>sport</td>\n",
              "    </tr>\n",
              "  </tbody>\n",
              "</table>\n",
              "</div>\n",
              "      <button class=\"colab-df-convert\" onclick=\"convertToInteractive('df-d4535dab-2433-443b-a5e4-7a742e0ae852')\"\n",
              "              title=\"Convert this dataframe to an interactive table.\"\n",
              "              style=\"display:none;\">\n",
              "        \n",
              "  <svg xmlns=\"http://www.w3.org/2000/svg\" height=\"24px\"viewBox=\"0 0 24 24\"\n",
              "       width=\"24px\">\n",
              "    <path d=\"M0 0h24v24H0V0z\" fill=\"none\"/>\n",
              "    <path d=\"M18.56 5.44l.94 2.06.94-2.06 2.06-.94-2.06-.94-.94-2.06-.94 2.06-2.06.94zm-11 1L8.5 8.5l.94-2.06 2.06-.94-2.06-.94L8.5 2.5l-.94 2.06-2.06.94zm10 10l.94 2.06.94-2.06 2.06-.94-2.06-.94-.94-2.06-.94 2.06-2.06.94z\"/><path d=\"M17.41 7.96l-1.37-1.37c-.4-.4-.92-.59-1.43-.59-.52 0-1.04.2-1.43.59L10.3 9.45l-7.72 7.72c-.78.78-.78 2.05 0 2.83L4 21.41c.39.39.9.59 1.41.59.51 0 1.02-.2 1.41-.59l7.78-7.78 2.81-2.81c.8-.78.8-2.07 0-2.86zM5.41 20L4 18.59l7.72-7.72 1.47 1.35L5.41 20z\"/>\n",
              "  </svg>\n",
              "      </button>\n",
              "      \n",
              "  <style>\n",
              "    .colab-df-container {\n",
              "      display:flex;\n",
              "      flex-wrap:wrap;\n",
              "      gap: 12px;\n",
              "    }\n",
              "\n",
              "    .colab-df-convert {\n",
              "      background-color: #E8F0FE;\n",
              "      border: none;\n",
              "      border-radius: 50%;\n",
              "      cursor: pointer;\n",
              "      display: none;\n",
              "      fill: #1967D2;\n",
              "      height: 32px;\n",
              "      padding: 0 0 0 0;\n",
              "      width: 32px;\n",
              "    }\n",
              "\n",
              "    .colab-df-convert:hover {\n",
              "      background-color: #E2EBFA;\n",
              "      box-shadow: 0px 1px 2px rgba(60, 64, 67, 0.3), 0px 1px 3px 1px rgba(60, 64, 67, 0.15);\n",
              "      fill: #174EA6;\n",
              "    }\n",
              "\n",
              "    [theme=dark] .colab-df-convert {\n",
              "      background-color: #3B4455;\n",
              "      fill: #D2E3FC;\n",
              "    }\n",
              "\n",
              "    [theme=dark] .colab-df-convert:hover {\n",
              "      background-color: #434B5C;\n",
              "      box-shadow: 0px 1px 3px 1px rgba(0, 0, 0, 0.15);\n",
              "      filter: drop-shadow(0px 1px 2px rgba(0, 0, 0, 0.3));\n",
              "      fill: #FFFFFF;\n",
              "    }\n",
              "  </style>\n",
              "\n",
              "      <script>\n",
              "        const buttonEl =\n",
              "          document.querySelector('#df-d4535dab-2433-443b-a5e4-7a742e0ae852 button.colab-df-convert');\n",
              "        buttonEl.style.display =\n",
              "          google.colab.kernel.accessAllowed ? 'block' : 'none';\n",
              "\n",
              "        async function convertToInteractive(key) {\n",
              "          const element = document.querySelector('#df-d4535dab-2433-443b-a5e4-7a742e0ae852');\n",
              "          const dataTable =\n",
              "            await google.colab.kernel.invokeFunction('convertToInteractive',\n",
              "                                                     [key], {});\n",
              "          if (!dataTable) return;\n",
              "\n",
              "          const docLinkHtml = 'Like what you see? Visit the ' +\n",
              "            '<a target=\"_blank\" href=https://colab.research.google.com/notebooks/data_table.ipynb>data table notebook</a>'\n",
              "            + ' to learn more about interactive tables.';\n",
              "          element.innerHTML = '';\n",
              "          dataTable['output_type'] = 'display_data';\n",
              "          await google.colab.output.renderOutput(dataTable, element);\n",
              "          const docLink = document.createElement('div');\n",
              "          docLink.innerHTML = docLinkHtml;\n",
              "          element.appendChild(docLink);\n",
              "        }\n",
              "      </script>\n",
              "    </div>\n",
              "  </div>\n",
              "  "
            ]
          },
          "metadata": {},
          "execution_count": 91
        }
      ]
    },
    {
      "cell_type": "code",
      "source": [
        "# Edit dataframe to submit prediction results to Kaggle\n",
        "submit_df = test.copy()\n",
        "submit_df.rename(columns={'pred':'Category'}, inplace=True)\n",
        "submit_df = submit_df[['ArticleId', 'Category']]"
      ],
      "metadata": {
        "id": "j4mVpJPY8xzs"
      },
      "execution_count": null,
      "outputs": []
    },
    {
      "cell_type": "code",
      "source": [
        "submit_df.head()"
      ],
      "metadata": {
        "colab": {
          "base_uri": "https://localhost:8080/",
          "height": 206
        },
        "id": "FwlmNnmCSNUf",
        "outputId": "03312648-d104-4ef5-df82-f12f292b2d45"
      },
      "execution_count": null,
      "outputs": [
        {
          "output_type": "execute_result",
          "data": {
            "text/plain": [
              "   ArticleId  Category\n",
              "0       1018     sport\n",
              "1       1319      tech\n",
              "2       1138     sport\n",
              "3        459  business\n",
              "4       1020     sport"
            ],
            "text/html": [
              "\n",
              "  <div id=\"df-7b2ef7be-36b3-436e-821e-b61611770c94\">\n",
              "    <div class=\"colab-df-container\">\n",
              "      <div>\n",
              "<style scoped>\n",
              "    .dataframe tbody tr th:only-of-type {\n",
              "        vertical-align: middle;\n",
              "    }\n",
              "\n",
              "    .dataframe tbody tr th {\n",
              "        vertical-align: top;\n",
              "    }\n",
              "\n",
              "    .dataframe thead th {\n",
              "        text-align: right;\n",
              "    }\n",
              "</style>\n",
              "<table border=\"1\" class=\"dataframe\">\n",
              "  <thead>\n",
              "    <tr style=\"text-align: right;\">\n",
              "      <th></th>\n",
              "      <th>ArticleId</th>\n",
              "      <th>Category</th>\n",
              "    </tr>\n",
              "  </thead>\n",
              "  <tbody>\n",
              "    <tr>\n",
              "      <th>0</th>\n",
              "      <td>1018</td>\n",
              "      <td>sport</td>\n",
              "    </tr>\n",
              "    <tr>\n",
              "      <th>1</th>\n",
              "      <td>1319</td>\n",
              "      <td>tech</td>\n",
              "    </tr>\n",
              "    <tr>\n",
              "      <th>2</th>\n",
              "      <td>1138</td>\n",
              "      <td>sport</td>\n",
              "    </tr>\n",
              "    <tr>\n",
              "      <th>3</th>\n",
              "      <td>459</td>\n",
              "      <td>business</td>\n",
              "    </tr>\n",
              "    <tr>\n",
              "      <th>4</th>\n",
              "      <td>1020</td>\n",
              "      <td>sport</td>\n",
              "    </tr>\n",
              "  </tbody>\n",
              "</table>\n",
              "</div>\n",
              "      <button class=\"colab-df-convert\" onclick=\"convertToInteractive('df-7b2ef7be-36b3-436e-821e-b61611770c94')\"\n",
              "              title=\"Convert this dataframe to an interactive table.\"\n",
              "              style=\"display:none;\">\n",
              "        \n",
              "  <svg xmlns=\"http://www.w3.org/2000/svg\" height=\"24px\"viewBox=\"0 0 24 24\"\n",
              "       width=\"24px\">\n",
              "    <path d=\"M0 0h24v24H0V0z\" fill=\"none\"/>\n",
              "    <path d=\"M18.56 5.44l.94 2.06.94-2.06 2.06-.94-2.06-.94-.94-2.06-.94 2.06-2.06.94zm-11 1L8.5 8.5l.94-2.06 2.06-.94-2.06-.94L8.5 2.5l-.94 2.06-2.06.94zm10 10l.94 2.06.94-2.06 2.06-.94-2.06-.94-.94-2.06-.94 2.06-2.06.94z\"/><path d=\"M17.41 7.96l-1.37-1.37c-.4-.4-.92-.59-1.43-.59-.52 0-1.04.2-1.43.59L10.3 9.45l-7.72 7.72c-.78.78-.78 2.05 0 2.83L4 21.41c.39.39.9.59 1.41.59.51 0 1.02-.2 1.41-.59l7.78-7.78 2.81-2.81c.8-.78.8-2.07 0-2.86zM5.41 20L4 18.59l7.72-7.72 1.47 1.35L5.41 20z\"/>\n",
              "  </svg>\n",
              "      </button>\n",
              "      \n",
              "  <style>\n",
              "    .colab-df-container {\n",
              "      display:flex;\n",
              "      flex-wrap:wrap;\n",
              "      gap: 12px;\n",
              "    }\n",
              "\n",
              "    .colab-df-convert {\n",
              "      background-color: #E8F0FE;\n",
              "      border: none;\n",
              "      border-radius: 50%;\n",
              "      cursor: pointer;\n",
              "      display: none;\n",
              "      fill: #1967D2;\n",
              "      height: 32px;\n",
              "      padding: 0 0 0 0;\n",
              "      width: 32px;\n",
              "    }\n",
              "\n",
              "    .colab-df-convert:hover {\n",
              "      background-color: #E2EBFA;\n",
              "      box-shadow: 0px 1px 2px rgba(60, 64, 67, 0.3), 0px 1px 3px 1px rgba(60, 64, 67, 0.15);\n",
              "      fill: #174EA6;\n",
              "    }\n",
              "\n",
              "    [theme=dark] .colab-df-convert {\n",
              "      background-color: #3B4455;\n",
              "      fill: #D2E3FC;\n",
              "    }\n",
              "\n",
              "    [theme=dark] .colab-df-convert:hover {\n",
              "      background-color: #434B5C;\n",
              "      box-shadow: 0px 1px 3px 1px rgba(0, 0, 0, 0.15);\n",
              "      filter: drop-shadow(0px 1px 2px rgba(0, 0, 0, 0.3));\n",
              "      fill: #FFFFFF;\n",
              "    }\n",
              "  </style>\n",
              "\n",
              "      <script>\n",
              "        const buttonEl =\n",
              "          document.querySelector('#df-7b2ef7be-36b3-436e-821e-b61611770c94 button.colab-df-convert');\n",
              "        buttonEl.style.display =\n",
              "          google.colab.kernel.accessAllowed ? 'block' : 'none';\n",
              "\n",
              "        async function convertToInteractive(key) {\n",
              "          const element = document.querySelector('#df-7b2ef7be-36b3-436e-821e-b61611770c94');\n",
              "          const dataTable =\n",
              "            await google.colab.kernel.invokeFunction('convertToInteractive',\n",
              "                                                     [key], {});\n",
              "          if (!dataTable) return;\n",
              "\n",
              "          const docLinkHtml = 'Like what you see? Visit the ' +\n",
              "            '<a target=\"_blank\" href=https://colab.research.google.com/notebooks/data_table.ipynb>data table notebook</a>'\n",
              "            + ' to learn more about interactive tables.';\n",
              "          element.innerHTML = '';\n",
              "          dataTable['output_type'] = 'display_data';\n",
              "          await google.colab.output.renderOutput(dataTable, element);\n",
              "          const docLink = document.createElement('div');\n",
              "          docLink.innerHTML = docLinkHtml;\n",
              "          element.appendChild(docLink);\n",
              "        }\n",
              "      </script>\n",
              "    </div>\n",
              "  </div>\n",
              "  "
            ]
          },
          "metadata": {},
          "execution_count": 95
        }
      ]
    },
    {
      "cell_type": "code",
      "source": [
        "submit_df.to_csv(\"/content/drive/MyDrive/ColoradoBoulder/Machine Learning/Unsupervised learning/week4_peer_review/BBC News solution.csv\", index=False)"
      ],
      "metadata": {
        "id": "5vEPt9Dx8-U0"
      },
      "execution_count": null,
      "outputs": []
    },
    {
      "cell_type": "markdown",
      "source": [
        "# Supervised Learning case"
      ],
      "metadata": {
        "id": "wbaKD83kYS1L"
      }
    },
    {
      "cell_type": "code",
      "source": [
        "# I used tfidfvectorizer that trained previously, but newly trained\n",
        "tfidvec_df = best_tfidvec.transform(train['lem_sent'])"
      ],
      "metadata": {
        "id": "QKY38oG7YWI_"
      },
      "execution_count": null,
      "outputs": []
    },
    {
      "cell_type": "code",
      "source": [
        "train.shape"
      ],
      "metadata": {
        "colab": {
          "base_uri": "https://localhost:8080/"
        },
        "id": "VGJeM732YyHa",
        "outputId": "7f4af654-9acf-4072-d22f-3809c498363b"
      },
      "execution_count": null,
      "outputs": [
        {
          "output_type": "execute_result",
          "data": {
            "text/plain": [
              "(1484, 19)"
            ]
          },
          "metadata": {},
          "execution_count": 115
        }
      ]
    },
    {
      "cell_type": "code",
      "source": [
        "from sklearn.ensemble import AdaBoostClassifier"
      ],
      "metadata": {
        "id": "K0eTHXijYnXR"
      },
      "execution_count": null,
      "outputs": []
    },
    {
      "cell_type": "code",
      "source": [
        "train.head()"
      ],
      "metadata": {
        "colab": {
          "base_uri": "https://localhost:8080/",
          "height": 597
        },
        "id": "2Lyv_o94Zkjf",
        "outputId": "9b3c2004-eb58-4253-ffb7-1c9fca4e5b8d"
      },
      "execution_count": null,
      "outputs": [
        {
          "output_type": "execute_result",
          "data": {
            "text/plain": [
              "   Unnamed: 0  ArticleId                                               Text  \\\n",
              "0           0       1833  worldcom ex-boss launches defence lawyers defe...   \n",
              "1           1        154  german business confidence slides german busin...   \n",
              "2           2       1101  bbc poll indicates economic gloom citizens in ...   \n",
              "3           3       1976  lifestyle  governs mobile choice  faster  bett...   \n",
              "4           4        917  enron bosses in $168m payout eighteen former e...   \n",
              "\n",
              "   Category  n_word_token                                        word_tokens  \\\n",
              "0  business            18  ['last', 'week', 'mci', 'agreed', 'to', 'a', '...   \n",
              "1  business            28  ['eurozone', 'interest', 'rates', 'are', 'at',...   \n",
              "2  business            14  ['in', 'eight', 'of', 'the', 'countries', 'the...   \n",
              "3      tech            23  ['by', 'contrast', 'he', 'said', 'camera', 'ph...   \n",
              "4  business            42  ['the', 'university', 'of', 'california', 'sai...   \n",
              "\n",
              "   majority  majority_n                                           no_punct  \\\n",
              "0         a           2  worldcom exboss launches defence lawyers defen...   \n",
              "1  interest           2  german business confidence slides german busin...   \n",
              "2       the           2  bbc poll indicates economic gloom citizens in ...   \n",
              "3      were           2  lifestyle  governs mobile choice  faster  bett...   \n",
              "4       the           5  enron bosses in 168m payout eighteen former en...   \n",
              "\n",
              "                                        no_punct_num  \\\n",
              "0  worldcom exboss launches defence lawyers defen...   \n",
              "1  german business confidence slides german busin...   \n",
              "2  bbc poll indicates economic gloom citizens in ...   \n",
              "3  lifestyle  governs mobile choice  faster  bett...   \n",
              "4  enron bosses in m payout eighteen former enron...   \n",
              "\n",
              "                                        no_stopwords  \\\n",
              "0  worldcom exboss launches defence lawyers defen...   \n",
              "1  german business confidence slides german busin...   \n",
              "2  bbc poll indicates economic gloom citizens maj...   \n",
              "3  lifestyle governs mobile choice faster better ...   \n",
              "4  enron bosses payout eighteen former enron dire...   \n",
              "\n",
              "                                          clean_text  \\\n",
              "0  worldcom exboss launches defence lawyers defen...   \n",
              "1  german business confidence slides german busin...   \n",
              "2  bbc poll indicates economic gloom citizens maj...   \n",
              "3  lifestyle governs mobile choice faster better ...   \n",
              "4  enron bosses payout eighteen former enron dire...   \n",
              "\n",
              "                                           tokenized  \\\n",
              "0  ['worldcom', 'exboss', 'launches', 'defence', ...   \n",
              "1  ['german', 'business', 'confidence', 'slides',...   \n",
              "2  ['bbc', 'poll', 'indicates', 'economic', 'gloo...   \n",
              "3  ['lifestyle', 'governs', 'mobile', 'choice', '...   \n",
              "4  ['enron', 'bosses', 'payout', 'eighteen', 'for...   \n",
              "\n",
              "                                          lemmatized  \\\n",
              "0  ['worldcom', 'exboss', 'launch', 'defence', 'l...   \n",
              "1  ['german', 'business', 'confidence', 'slide', ...   \n",
              "2  ['bbc', 'poll', 'indicates', 'economic', 'gloo...   \n",
              "3  ['lifestyle', 'governs', 'mobile', 'choice', '...   \n",
              "4  ['enron', 'boss', 'payout', 'eighteen', 'forme...   \n",
              "\n",
              "                                            lem_sent  n_words  target  best  \n",
              "0  worldcom exboss launch defence lawyer defendin...      185       2     2  \n",
              "1  german business confidence slide german busine...      194       2     2  \n",
              "2  bbc poll indicates economic gloom citizen majo...      267       2     2  \n",
              "3  lifestyle governs mobile choice faster better ...      344       4     4  \n",
              "4  enron boss payout eighteen former enron direct...      198       2     2  "
            ],
            "text/html": [
              "\n",
              "  <div id=\"df-c1da2a96-3a48-4978-abd3-6e8ccf04d8f3\">\n",
              "    <div class=\"colab-df-container\">\n",
              "      <div>\n",
              "<style scoped>\n",
              "    .dataframe tbody tr th:only-of-type {\n",
              "        vertical-align: middle;\n",
              "    }\n",
              "\n",
              "    .dataframe tbody tr th {\n",
              "        vertical-align: top;\n",
              "    }\n",
              "\n",
              "    .dataframe thead th {\n",
              "        text-align: right;\n",
              "    }\n",
              "</style>\n",
              "<table border=\"1\" class=\"dataframe\">\n",
              "  <thead>\n",
              "    <tr style=\"text-align: right;\">\n",
              "      <th></th>\n",
              "      <th>Unnamed: 0</th>\n",
              "      <th>ArticleId</th>\n",
              "      <th>Text</th>\n",
              "      <th>Category</th>\n",
              "      <th>n_word_token</th>\n",
              "      <th>word_tokens</th>\n",
              "      <th>majority</th>\n",
              "      <th>majority_n</th>\n",
              "      <th>no_punct</th>\n",
              "      <th>no_punct_num</th>\n",
              "      <th>no_stopwords</th>\n",
              "      <th>clean_text</th>\n",
              "      <th>tokenized</th>\n",
              "      <th>lemmatized</th>\n",
              "      <th>lem_sent</th>\n",
              "      <th>n_words</th>\n",
              "      <th>target</th>\n",
              "      <th>best</th>\n",
              "    </tr>\n",
              "  </thead>\n",
              "  <tbody>\n",
              "    <tr>\n",
              "      <th>0</th>\n",
              "      <td>0</td>\n",
              "      <td>1833</td>\n",
              "      <td>worldcom ex-boss launches defence lawyers defe...</td>\n",
              "      <td>business</td>\n",
              "      <td>18</td>\n",
              "      <td>['last', 'week', 'mci', 'agreed', 'to', 'a', '...</td>\n",
              "      <td>a</td>\n",
              "      <td>2</td>\n",
              "      <td>worldcom exboss launches defence lawyers defen...</td>\n",
              "      <td>worldcom exboss launches defence lawyers defen...</td>\n",
              "      <td>worldcom exboss launches defence lawyers defen...</td>\n",
              "      <td>worldcom exboss launches defence lawyers defen...</td>\n",
              "      <td>['worldcom', 'exboss', 'launches', 'defence', ...</td>\n",
              "      <td>['worldcom', 'exboss', 'launch', 'defence', 'l...</td>\n",
              "      <td>worldcom exboss launch defence lawyer defendin...</td>\n",
              "      <td>185</td>\n",
              "      <td>2</td>\n",
              "      <td>2</td>\n",
              "    </tr>\n",
              "    <tr>\n",
              "      <th>1</th>\n",
              "      <td>1</td>\n",
              "      <td>154</td>\n",
              "      <td>german business confidence slides german busin...</td>\n",
              "      <td>business</td>\n",
              "      <td>28</td>\n",
              "      <td>['eurozone', 'interest', 'rates', 'are', 'at',...</td>\n",
              "      <td>interest</td>\n",
              "      <td>2</td>\n",
              "      <td>german business confidence slides german busin...</td>\n",
              "      <td>german business confidence slides german busin...</td>\n",
              "      <td>german business confidence slides german busin...</td>\n",
              "      <td>german business confidence slides german busin...</td>\n",
              "      <td>['german', 'business', 'confidence', 'slides',...</td>\n",
              "      <td>['german', 'business', 'confidence', 'slide', ...</td>\n",
              "      <td>german business confidence slide german busine...</td>\n",
              "      <td>194</td>\n",
              "      <td>2</td>\n",
              "      <td>2</td>\n",
              "    </tr>\n",
              "    <tr>\n",
              "      <th>2</th>\n",
              "      <td>2</td>\n",
              "      <td>1101</td>\n",
              "      <td>bbc poll indicates economic gloom citizens in ...</td>\n",
              "      <td>business</td>\n",
              "      <td>14</td>\n",
              "      <td>['in', 'eight', 'of', 'the', 'countries', 'the...</td>\n",
              "      <td>the</td>\n",
              "      <td>2</td>\n",
              "      <td>bbc poll indicates economic gloom citizens in ...</td>\n",
              "      <td>bbc poll indicates economic gloom citizens in ...</td>\n",
              "      <td>bbc poll indicates economic gloom citizens maj...</td>\n",
              "      <td>bbc poll indicates economic gloom citizens maj...</td>\n",
              "      <td>['bbc', 'poll', 'indicates', 'economic', 'gloo...</td>\n",
              "      <td>['bbc', 'poll', 'indicates', 'economic', 'gloo...</td>\n",
              "      <td>bbc poll indicates economic gloom citizen majo...</td>\n",
              "      <td>267</td>\n",
              "      <td>2</td>\n",
              "      <td>2</td>\n",
              "    </tr>\n",
              "    <tr>\n",
              "      <th>3</th>\n",
              "      <td>3</td>\n",
              "      <td>1976</td>\n",
              "      <td>lifestyle  governs mobile choice  faster  bett...</td>\n",
              "      <td>tech</td>\n",
              "      <td>23</td>\n",
              "      <td>['by', 'contrast', 'he', 'said', 'camera', 'ph...</td>\n",
              "      <td>were</td>\n",
              "      <td>2</td>\n",
              "      <td>lifestyle  governs mobile choice  faster  bett...</td>\n",
              "      <td>lifestyle  governs mobile choice  faster  bett...</td>\n",
              "      <td>lifestyle governs mobile choice faster better ...</td>\n",
              "      <td>lifestyle governs mobile choice faster better ...</td>\n",
              "      <td>['lifestyle', 'governs', 'mobile', 'choice', '...</td>\n",
              "      <td>['lifestyle', 'governs', 'mobile', 'choice', '...</td>\n",
              "      <td>lifestyle governs mobile choice faster better ...</td>\n",
              "      <td>344</td>\n",
              "      <td>4</td>\n",
              "      <td>4</td>\n",
              "    </tr>\n",
              "    <tr>\n",
              "      <th>4</th>\n",
              "      <td>4</td>\n",
              "      <td>917</td>\n",
              "      <td>enron bosses in $168m payout eighteen former e...</td>\n",
              "      <td>business</td>\n",
              "      <td>42</td>\n",
              "      <td>['the', 'university', 'of', 'california', 'sai...</td>\n",
              "      <td>the</td>\n",
              "      <td>5</td>\n",
              "      <td>enron bosses in 168m payout eighteen former en...</td>\n",
              "      <td>enron bosses in m payout eighteen former enron...</td>\n",
              "      <td>enron bosses payout eighteen former enron dire...</td>\n",
              "      <td>enron bosses payout eighteen former enron dire...</td>\n",
              "      <td>['enron', 'bosses', 'payout', 'eighteen', 'for...</td>\n",
              "      <td>['enron', 'boss', 'payout', 'eighteen', 'forme...</td>\n",
              "      <td>enron boss payout eighteen former enron direct...</td>\n",
              "      <td>198</td>\n",
              "      <td>2</td>\n",
              "      <td>2</td>\n",
              "    </tr>\n",
              "  </tbody>\n",
              "</table>\n",
              "</div>\n",
              "      <button class=\"colab-df-convert\" onclick=\"convertToInteractive('df-c1da2a96-3a48-4978-abd3-6e8ccf04d8f3')\"\n",
              "              title=\"Convert this dataframe to an interactive table.\"\n",
              "              style=\"display:none;\">\n",
              "        \n",
              "  <svg xmlns=\"http://www.w3.org/2000/svg\" height=\"24px\"viewBox=\"0 0 24 24\"\n",
              "       width=\"24px\">\n",
              "    <path d=\"M0 0h24v24H0V0z\" fill=\"none\"/>\n",
              "    <path d=\"M18.56 5.44l.94 2.06.94-2.06 2.06-.94-2.06-.94-.94-2.06-.94 2.06-2.06.94zm-11 1L8.5 8.5l.94-2.06 2.06-.94-2.06-.94L8.5 2.5l-.94 2.06-2.06.94zm10 10l.94 2.06.94-2.06 2.06-.94-2.06-.94-.94-2.06-.94 2.06-2.06.94z\"/><path d=\"M17.41 7.96l-1.37-1.37c-.4-.4-.92-.59-1.43-.59-.52 0-1.04.2-1.43.59L10.3 9.45l-7.72 7.72c-.78.78-.78 2.05 0 2.83L4 21.41c.39.39.9.59 1.41.59.51 0 1.02-.2 1.41-.59l7.78-7.78 2.81-2.81c.8-.78.8-2.07 0-2.86zM5.41 20L4 18.59l7.72-7.72 1.47 1.35L5.41 20z\"/>\n",
              "  </svg>\n",
              "      </button>\n",
              "      \n",
              "  <style>\n",
              "    .colab-df-container {\n",
              "      display:flex;\n",
              "      flex-wrap:wrap;\n",
              "      gap: 12px;\n",
              "    }\n",
              "\n",
              "    .colab-df-convert {\n",
              "      background-color: #E8F0FE;\n",
              "      border: none;\n",
              "      border-radius: 50%;\n",
              "      cursor: pointer;\n",
              "      display: none;\n",
              "      fill: #1967D2;\n",
              "      height: 32px;\n",
              "      padding: 0 0 0 0;\n",
              "      width: 32px;\n",
              "    }\n",
              "\n",
              "    .colab-df-convert:hover {\n",
              "      background-color: #E2EBFA;\n",
              "      box-shadow: 0px 1px 2px rgba(60, 64, 67, 0.3), 0px 1px 3px 1px rgba(60, 64, 67, 0.15);\n",
              "      fill: #174EA6;\n",
              "    }\n",
              "\n",
              "    [theme=dark] .colab-df-convert {\n",
              "      background-color: #3B4455;\n",
              "      fill: #D2E3FC;\n",
              "    }\n",
              "\n",
              "    [theme=dark] .colab-df-convert:hover {\n",
              "      background-color: #434B5C;\n",
              "      box-shadow: 0px 1px 3px 1px rgba(0, 0, 0, 0.15);\n",
              "      filter: drop-shadow(0px 1px 2px rgba(0, 0, 0, 0.3));\n",
              "      fill: #FFFFFF;\n",
              "    }\n",
              "  </style>\n",
              "\n",
              "      <script>\n",
              "        const buttonEl =\n",
              "          document.querySelector('#df-c1da2a96-3a48-4978-abd3-6e8ccf04d8f3 button.colab-df-convert');\n",
              "        buttonEl.style.display =\n",
              "          google.colab.kernel.accessAllowed ? 'block' : 'none';\n",
              "\n",
              "        async function convertToInteractive(key) {\n",
              "          const element = document.querySelector('#df-c1da2a96-3a48-4978-abd3-6e8ccf04d8f3');\n",
              "          const dataTable =\n",
              "            await google.colab.kernel.invokeFunction('convertToInteractive',\n",
              "                                                     [key], {});\n",
              "          if (!dataTable) return;\n",
              "\n",
              "          const docLinkHtml = 'Like what you see? Visit the ' +\n",
              "            '<a target=\"_blank\" href=https://colab.research.google.com/notebooks/data_table.ipynb>data table notebook</a>'\n",
              "            + ' to learn more about interactive tables.';\n",
              "          element.innerHTML = '';\n",
              "          dataTable['output_type'] = 'display_data';\n",
              "          await google.colab.output.renderOutput(dataTable, element);\n",
              "          const docLink = document.createElement('div');\n",
              "          docLink.innerHTML = docLinkHtml;\n",
              "          element.appendChild(docLink);\n",
              "        }\n",
              "      </script>\n",
              "    </div>\n",
              "  </div>\n",
              "  "
            ]
          },
          "metadata": {},
          "execution_count": 30
        }
      ]
    },
    {
      "cell_type": "code",
      "source": [
        "# convert category data into numerical one\n",
        "train['Category_numeric'] = train['Category'].replace(train['Category'].unique(), np.arange(len(train['Category'].unique())))"
      ],
      "metadata": {
        "id": "qkzHma5fatBy"
      },
      "execution_count": null,
      "outputs": []
    },
    {
      "cell_type": "code",
      "source": [
        "# Using Randomized search cross validation, find the best parameters for AdaBoost model\n",
        "param_dist = {'learning_rate':np.arange(0.001, 1, 0.001),\n",
        "                       'random_state':[42],\n",
        "                       'n_estimators':np.arange(1,100,1)\n",
        "                       }\n",
        "rcl = AdaBoostClassifier()\n",
        "rcl_random = RandomizedSearchCV(estimator=rcl, param_distributions=param_dist, n_iter=200, cv=3, verbose=2, random_state=42, n_jobs=-1)\n",
        "rcl_random.fit(tfidvec_df, train['Category_numeric'])"
      ],
      "metadata": {
        "colab": {
          "base_uri": "https://localhost:8080/"
        },
        "id": "nP3dy-d9ZRit",
        "outputId": "ccd03edb-5f83-4c6e-beff-23f2e08450d2"
      },
      "execution_count": null,
      "outputs": [
        {
          "output_type": "stream",
          "name": "stdout",
          "text": [
            "Fitting 3 folds for each of 200 candidates, totalling 600 fits\n"
          ]
        },
        {
          "output_type": "execute_result",
          "data": {
            "text/plain": [
              "RandomizedSearchCV(cv=3, estimator=AdaBoostClassifier(), n_iter=200, n_jobs=-1,\n",
              "                   param_distributions={'learning_rate': array([0.001, 0.002, 0.003, 0.004, 0.005, 0.006, 0.007, 0.008, 0.009,\n",
              "       0.01 , 0.011, 0.012, 0.013, 0.014, 0.015, 0.016, 0.017, 0.018,\n",
              "       0.019, 0.02 , 0.021, 0.022, 0.023, 0.024, 0.025, 0.026, 0.027,\n",
              "       0.028, 0.029, 0.03 , 0.031, 0.032, 0.033, 0.034, 0.035, 0.036,\n",
              "       0.037, 0.038, 0.039...\n",
              "                                        'n_estimators': array([ 1,  2,  3,  4,  5,  6,  7,  8,  9, 10, 11, 12, 13, 14, 15, 16, 17,\n",
              "       18, 19, 20, 21, 22, 23, 24, 25, 26, 27, 28, 29, 30, 31, 32, 33, 34,\n",
              "       35, 36, 37, 38, 39, 40, 41, 42, 43, 44, 45, 46, 47, 48, 49, 50, 51,\n",
              "       52, 53, 54, 55, 56, 57, 58, 59, 60, 61, 62, 63, 64, 65, 66, 67, 68,\n",
              "       69, 70, 71, 72, 73, 74, 75, 76, 77, 78, 79, 80, 81, 82, 83, 84, 85,\n",
              "       86, 87, 88, 89, 90, 91, 92, 93, 94, 95, 96, 97, 98, 99]),\n",
              "                                        'random_state': [42]},\n",
              "                   random_state=42, verbose=2)"
            ]
          },
          "metadata": {},
          "execution_count": 117
        }
      ]
    },
    {
      "cell_type": "code",
      "source": [
        "rcl_random.best_estimator_"
      ],
      "metadata": {
        "colab": {
          "base_uri": "https://localhost:8080/"
        },
        "id": "mxAKpctccrUg",
        "outputId": "8d6bdf3b-fbab-420a-f725-17147688b299"
      },
      "execution_count": null,
      "outputs": [
        {
          "output_type": "execute_result",
          "data": {
            "text/plain": [
              "AdaBoostClassifier(learning_rate=0.07, n_estimators=80, random_state=42)"
            ]
          },
          "metadata": {},
          "execution_count": 121
        }
      ]
    },
    {
      "cell_type": "code",
      "source": [
        "rcl_random.best_score_"
      ],
      "metadata": {
        "colab": {
          "base_uri": "https://localhost:8080/"
        },
        "id": "AFAlIzHYcz7i",
        "outputId": "860e4358-fe56-46f1-c181-8b99c154f539"
      },
      "execution_count": null,
      "outputs": [
        {
          "output_type": "execute_result",
          "data": {
            "text/plain": [
              "0.812031243610191"
            ]
          },
          "metadata": {},
          "execution_count": 122
        }
      ]
    },
    {
      "cell_type": "code",
      "source": [
        "# Assign AdaBoost classifier using the best parameters\n",
        "best_rcl = AdaBoostClassifier(learning_rate=0.07,\n",
        "                              n_estimators=80,\n",
        "                              random_state=42\n",
        "                              )"
      ],
      "metadata": {
        "id": "B2ErTLtXcuUx"
      },
      "execution_count": null,
      "outputs": []
    },
    {
      "cell_type": "code",
      "source": [
        "# Fit the model with train dataset\n",
        "best_rcl.fit(tfidvec_df, train['Category_numeric'])"
      ],
      "metadata": {
        "colab": {
          "base_uri": "https://localhost:8080/"
        },
        "id": "M7XsOs0XdKoC",
        "outputId": "0ee74221-8ff7-4202-8cf8-9f5f8bc80843"
      },
      "execution_count": null,
      "outputs": [
        {
          "output_type": "execute_result",
          "data": {
            "text/plain": [
              "AdaBoostClassifier(learning_rate=0.07, n_estimators=80, random_state=42)"
            ]
          },
          "metadata": {},
          "execution_count": 124
        }
      ]
    },
    {
      "cell_type": "code",
      "source": [
        "# Predict label using the best model\n",
        "pred = best_rcl.predict(tfidvec_df)"
      ],
      "metadata": {
        "id": "i08I72SzZw29"
      },
      "execution_count": null,
      "outputs": []
    },
    {
      "cell_type": "code",
      "source": [
        "accuracy_score(train['Category_numeric'], pred)"
      ],
      "metadata": {
        "colab": {
          "base_uri": "https://localhost:8080/"
        },
        "id": "spEHu3H5bY0S",
        "outputId": "561a3666-4ed9-48ac-ba84-7b00f7842262"
      },
      "execution_count": null,
      "outputs": [
        {
          "output_type": "execute_result",
          "data": {
            "text/plain": [
              "0.8807277628032345"
            ]
          },
          "metadata": {},
          "execution_count": 126
        }
      ]
    },
    {
      "cell_type": "code",
      "source": [
        "f1_score(train['Category_numeric'], pred, average='macro')"
      ],
      "metadata": {
        "colab": {
          "base_uri": "https://localhost:8080/"
        },
        "id": "NzsKRWYHda51",
        "outputId": "f145489c-4b57-4d60-ea06-50b521fd88fa"
      },
      "execution_count": null,
      "outputs": [
        {
          "output_type": "execute_result",
          "data": {
            "text/plain": [
              "0.8769373715995649"
            ]
          },
          "metadata": {},
          "execution_count": 127
        }
      ]
    },
    {
      "cell_type": "markdown",
      "source": [
        "### Predict test set"
      ],
      "metadata": {
        "id": "5kCdqzhEiuTp"
      }
    },
    {
      "cell_type": "code",
      "source": [
        "tfidvec_test_df = best_tfidvec.transform(test['lem_sent'])"
      ],
      "metadata": {
        "id": "BqkLsIgSiymd"
      },
      "execution_count": null,
      "outputs": []
    },
    {
      "cell_type": "code",
      "source": [
        "pred_test = best_rcl.predict(tfidvec_test_df)"
      ],
      "metadata": {
        "id": "H1kpTN6ri7GS"
      },
      "execution_count": null,
      "outputs": []
    },
    {
      "cell_type": "code",
      "source": [
        "pred_map = {i:c for c,i in zip(train['Category'].unique(), np.arange(len(train['Category'].unique())))}"
      ],
      "metadata": {
        "id": "FNA0SzsWhBci"
      },
      "execution_count": null,
      "outputs": []
    },
    {
      "cell_type": "code",
      "source": [
        "submit_df2 = submit_df.copy()"
      ],
      "metadata": {
        "id": "GCk4bU7kZiSe"
      },
      "execution_count": null,
      "outputs": []
    },
    {
      "cell_type": "code",
      "source": [
        "submit_df2.head()"
      ],
      "metadata": {
        "colab": {
          "base_uri": "https://localhost:8080/",
          "height": 206
        },
        "id": "OX0sa7NihwK6",
        "outputId": "ae7a7b8d-a8cd-4e52-ff6b-0597d5adb781"
      },
      "execution_count": null,
      "outputs": [
        {
          "output_type": "execute_result",
          "data": {
            "text/plain": [
              "   ArticleId  Category\n",
              "0       1018     sport\n",
              "1       1319      tech\n",
              "2       1138     sport\n",
              "3        459  business\n",
              "4       1020     sport"
            ],
            "text/html": [
              "\n",
              "  <div id=\"df-ac299d00-e8ad-4b91-bd5e-202e4c221902\">\n",
              "    <div class=\"colab-df-container\">\n",
              "      <div>\n",
              "<style scoped>\n",
              "    .dataframe tbody tr th:only-of-type {\n",
              "        vertical-align: middle;\n",
              "    }\n",
              "\n",
              "    .dataframe tbody tr th {\n",
              "        vertical-align: top;\n",
              "    }\n",
              "\n",
              "    .dataframe thead th {\n",
              "        text-align: right;\n",
              "    }\n",
              "</style>\n",
              "<table border=\"1\" class=\"dataframe\">\n",
              "  <thead>\n",
              "    <tr style=\"text-align: right;\">\n",
              "      <th></th>\n",
              "      <th>ArticleId</th>\n",
              "      <th>Category</th>\n",
              "    </tr>\n",
              "  </thead>\n",
              "  <tbody>\n",
              "    <tr>\n",
              "      <th>0</th>\n",
              "      <td>1018</td>\n",
              "      <td>sport</td>\n",
              "    </tr>\n",
              "    <tr>\n",
              "      <th>1</th>\n",
              "      <td>1319</td>\n",
              "      <td>tech</td>\n",
              "    </tr>\n",
              "    <tr>\n",
              "      <th>2</th>\n",
              "      <td>1138</td>\n",
              "      <td>sport</td>\n",
              "    </tr>\n",
              "    <tr>\n",
              "      <th>3</th>\n",
              "      <td>459</td>\n",
              "      <td>business</td>\n",
              "    </tr>\n",
              "    <tr>\n",
              "      <th>4</th>\n",
              "      <td>1020</td>\n",
              "      <td>sport</td>\n",
              "    </tr>\n",
              "  </tbody>\n",
              "</table>\n",
              "</div>\n",
              "      <button class=\"colab-df-convert\" onclick=\"convertToInteractive('df-ac299d00-e8ad-4b91-bd5e-202e4c221902')\"\n",
              "              title=\"Convert this dataframe to an interactive table.\"\n",
              "              style=\"display:none;\">\n",
              "        \n",
              "  <svg xmlns=\"http://www.w3.org/2000/svg\" height=\"24px\"viewBox=\"0 0 24 24\"\n",
              "       width=\"24px\">\n",
              "    <path d=\"M0 0h24v24H0V0z\" fill=\"none\"/>\n",
              "    <path d=\"M18.56 5.44l.94 2.06.94-2.06 2.06-.94-2.06-.94-.94-2.06-.94 2.06-2.06.94zm-11 1L8.5 8.5l.94-2.06 2.06-.94-2.06-.94L8.5 2.5l-.94 2.06-2.06.94zm10 10l.94 2.06.94-2.06 2.06-.94-2.06-.94-.94-2.06-.94 2.06-2.06.94z\"/><path d=\"M17.41 7.96l-1.37-1.37c-.4-.4-.92-.59-1.43-.59-.52 0-1.04.2-1.43.59L10.3 9.45l-7.72 7.72c-.78.78-.78 2.05 0 2.83L4 21.41c.39.39.9.59 1.41.59.51 0 1.02-.2 1.41-.59l7.78-7.78 2.81-2.81c.8-.78.8-2.07 0-2.86zM5.41 20L4 18.59l7.72-7.72 1.47 1.35L5.41 20z\"/>\n",
              "  </svg>\n",
              "      </button>\n",
              "      \n",
              "  <style>\n",
              "    .colab-df-container {\n",
              "      display:flex;\n",
              "      flex-wrap:wrap;\n",
              "      gap: 12px;\n",
              "    }\n",
              "\n",
              "    .colab-df-convert {\n",
              "      background-color: #E8F0FE;\n",
              "      border: none;\n",
              "      border-radius: 50%;\n",
              "      cursor: pointer;\n",
              "      display: none;\n",
              "      fill: #1967D2;\n",
              "      height: 32px;\n",
              "      padding: 0 0 0 0;\n",
              "      width: 32px;\n",
              "    }\n",
              "\n",
              "    .colab-df-convert:hover {\n",
              "      background-color: #E2EBFA;\n",
              "      box-shadow: 0px 1px 2px rgba(60, 64, 67, 0.3), 0px 1px 3px 1px rgba(60, 64, 67, 0.15);\n",
              "      fill: #174EA6;\n",
              "    }\n",
              "\n",
              "    [theme=dark] .colab-df-convert {\n",
              "      background-color: #3B4455;\n",
              "      fill: #D2E3FC;\n",
              "    }\n",
              "\n",
              "    [theme=dark] .colab-df-convert:hover {\n",
              "      background-color: #434B5C;\n",
              "      box-shadow: 0px 1px 3px 1px rgba(0, 0, 0, 0.15);\n",
              "      filter: drop-shadow(0px 1px 2px rgba(0, 0, 0, 0.3));\n",
              "      fill: #FFFFFF;\n",
              "    }\n",
              "  </style>\n",
              "\n",
              "      <script>\n",
              "        const buttonEl =\n",
              "          document.querySelector('#df-ac299d00-e8ad-4b91-bd5e-202e4c221902 button.colab-df-convert');\n",
              "        buttonEl.style.display =\n",
              "          google.colab.kernel.accessAllowed ? 'block' : 'none';\n",
              "\n",
              "        async function convertToInteractive(key) {\n",
              "          const element = document.querySelector('#df-ac299d00-e8ad-4b91-bd5e-202e4c221902');\n",
              "          const dataTable =\n",
              "            await google.colab.kernel.invokeFunction('convertToInteractive',\n",
              "                                                     [key], {});\n",
              "          if (!dataTable) return;\n",
              "\n",
              "          const docLinkHtml = 'Like what you see? Visit the ' +\n",
              "            '<a target=\"_blank\" href=https://colab.research.google.com/notebooks/data_table.ipynb>data table notebook</a>'\n",
              "            + ' to learn more about interactive tables.';\n",
              "          element.innerHTML = '';\n",
              "          dataTable['output_type'] = 'display_data';\n",
              "          await google.colab.output.renderOutput(dataTable, element);\n",
              "          const docLink = document.createElement('div');\n",
              "          docLink.innerHTML = docLinkHtml;\n",
              "          element.appendChild(docLink);\n",
              "        }\n",
              "      </script>\n",
              "    </div>\n",
              "  </div>\n",
              "  "
            ]
          },
          "metadata": {},
          "execution_count": 132
        }
      ]
    },
    {
      "cell_type": "code",
      "source": [
        "submit_df2.shape"
      ],
      "metadata": {
        "colab": {
          "base_uri": "https://localhost:8080/"
        },
        "id": "A1ljBaq4iXf7",
        "outputId": "49662dd8-0dd5-4e84-bcde-80625bcdf2ec"
      },
      "execution_count": null,
      "outputs": [
        {
          "output_type": "execute_result",
          "data": {
            "text/plain": [
              "(735, 2)"
            ]
          },
          "metadata": {},
          "execution_count": 133
        }
      ]
    },
    {
      "cell_type": "code",
      "source": [
        "submit_df2['Category'] = list(pred_test)\n",
        "submit_df2['Category'] = submit_df2['Category'].map(pred_map)"
      ],
      "metadata": {
        "id": "XSzjOysIhZKC"
      },
      "execution_count": null,
      "outputs": []
    },
    {
      "cell_type": "code",
      "source": [
        "submit_df2.to_csv(\"/content/drive/MyDrive/ColoradoBoulder/Machine Learning/Unsupervised learning/week4_peer_review/BBC News solution_ada.csv\", index=False)"
      ],
      "metadata": {
        "id": "hqSs4un1iFuo"
      },
      "execution_count": null,
      "outputs": []
    },
    {
      "cell_type": "markdown",
      "source": [
        "# Performance Summary Table\n",
        "## NMF model\n",
        "|Max_df|Min_df|Norm|Train Accuracy|Test Accuracy|\n",
        "|------|------|----|--------------|-------------|\n",
        "|0.05|0.00|L1|0.65|-\n",
        "|0.10|0.00|L1|0.73|-\n",
        "|0.15|1.00|L1|0.94|0.94|\n",
        "\n",
        "## Adaboost model\n",
        "|Learning_rate|n_estimator|Train Accuracy|Test Accuracy|\n",
        "|-------------|-----------|--------------|-------------|\n",
        "|0.082        |96         |0.88          |0.88         |"
      ],
      "metadata": {
        "id": "BfrD7uuwKexx"
      }
    },
    {
      "cell_type": "code",
      "source": [],
      "metadata": {
        "id": "22AyXHMyHtBf"
      },
      "execution_count": null,
      "outputs": []
    }
  ]
}